{
 "cells": [
  {
   "cell_type": "markdown",
   "metadata": {
    "id": "4fwmBoWsumvZ"
   },
   "source": [
    "## Retrieval-Augmented Generation (RAG) (40 points)\n",
    "\n",
    "The goal of this assignment is to gain hands-on experience with aspects of **Retrieval-Augmented Generation (RAG)**, with a focus on retrieval. You will use **LangChain**, a framework that simplifies integrating external knowledge into generation tasks by:\n",
    "\n",
    "- Implementing various vector databases for efficient neural retrieval. You will use a vector database for storing our memories.\n",
    "- Allowing seamless integration of pretrained text encoders, which you will access via HuggingFace models. You will use a text encoder to get text embeddings for storing in the vector database.\n",
    "\n",
    "**Data**  \n",
    "You will build a retrieval system using the [QMSum Dataset](https://github.com/Yale-LILY/QMSum), a human-annotated benchmark designed for question answering on long meeting transcripts. The dataset includes over 230 meetings across multiple domains.\n"
   ]
  },
  {
   "cell_type": "code",
   "execution_count": null,
   "metadata": {
    "colab": {
     "base_uri": "https://localhost:8080/"
    },
    "executionInfo": {
     "elapsed": 1253,
     "status": "ok",
     "timestamp": 1731284334670,
     "user": {
      "displayName": "Runpeng Jian",
      "userId": "02923340238727093107"
     },
     "user_tz": 480
    },
    "id": "Fw3Q_WvPvBqA",
    "outputId": "9728e4e5-b992-4dcd-bcc7-d2ecbd1703f9"
   },
   "outputs": [
    {
     "name": "stdout",
     "output_type": "stream",
     "text": [
      "Drive already mounted at /content/drive; to attempt to forcibly remount, call drive.mount(\"/content/drive\", force_remount=True).\n",
      "/content/drive/My Drive/CSE_256_PA3\n"
     ]
    }
   ],
   "source": [
    "# # This mounts your Google Drive to the Colab VM.\n",
    "# from google.colab import drive\n",
    "# drive.mount('/content/drive')\n",
    "\n",
    "# # TODO: Enter the foldername in your Drive where you have saved this notebook\n",
    "# # e.g. 'CSE156/assignments/PA3/'\n",
    "# FOLDERNAME = \"CSE_256_PA3\"\n",
    "# assert FOLDERNAME is not None, \"[!] Enter the foldername.\"\n",
    "\n",
    "# # Now that we've mounted your Drive, this ensures that\n",
    "# # the Python interpreter of the Colab VM can load\n",
    "# # python files from within it.\n",
    "# import sys\n",
    "# sys.path.append('/content/drive/My Drive/{}'.format(FOLDERNAME))\n",
    "\n",
    "# # This is later used to use the IMDB reviews\n",
    "# %cd /content/drive/My\\ Drive/$FOLDERNAME/"
   ]
  },
  {
   "cell_type": "markdown",
   "metadata": {
    "id": "FP65C9N9umva"
   },
   "source": [
    "# RAG Workflow\n",
    "\n",
    "Retrieval-Augmented Generation (RAG) systems involve several interconnected components. Below is a RAG workflow diagram from Hugging Face. Areas highlighted in blue indicate opportunities for system improvement.\n",
    "\n",
    "In this assignment,  we will focus  on the ***Retriever**  so the PA does not cover any processes starting from \"2. Reader\" and below.\n",
    "\n",
    "\n",
    "<img src=\"https://huggingface.co/datasets/huggingface/cookbook-images/resolve/main/RAG_workflow.png\" height=\"700\">\n",
    "\n",
    "\n",
    "\n",
    "\n",
    "\n",
    "\n",
    "\n",
    "\n"
   ]
  },
  {
   "cell_type": "markdown",
   "metadata": {
    "id": "6LcI9x5HE-EJ"
   },
   "source": [
    "# First,  install the required model dependancies."
   ]
  },
  {
   "cell_type": "code",
   "execution_count": null,
   "metadata": {
    "executionInfo": {
     "elapsed": 2846,
     "status": "ok",
     "timestamp": 1731284337515,
     "user": {
      "displayName": "Runpeng Jian",
      "userId": "02923340238727093107"
     },
     "user_tz": 480
    },
    "id": "kksG1BIyvhh0"
   },
   "outputs": [
    {
     "name": "stdout",
     "output_type": "stream",
     "text": [
      "Note: you may need to restart the kernel to use updated packages.\n"
     ]
    }
   ],
   "source": [
    "# pip install -q torch transformers langchain_chroma bitsandbytes langchain faiss-gpu langchain_huggingface langchain-community sentence-transformers  pacmap tqdm matplotlib"
   ]
  },
  {
   "cell_type": "code",
   "execution_count": 1,
   "metadata": {
    "executionInfo": {
     "elapsed": 4,
     "status": "ok",
     "timestamp": 1731284337516,
     "user": {
      "displayName": "Runpeng Jian",
      "userId": "02923340238727093107"
     },
     "user_tz": 480
    },
    "id": "pRYKFwaOumva"
   },
   "outputs": [],
   "source": [
    "from tqdm.notebook import tqdm\n",
    "import pandas as pd\n",
    "import os\n",
    "import csv\n",
    "import sys\n",
    "import numpy as np\n",
    "import time\n",
    "import random\n",
    "from typing import Optional, List, Tuple\n",
    "import matplotlib.pyplot as plt\n",
    "import textwrap\n",
    "import torch\n",
    "\n",
    "\n",
    "seed = 42\n",
    "random.seed(seed)\n",
    "np.random.seed(seed)\n",
    "torch.manual_seed(seed)\n",
    "torch.cuda.manual_seed_all(seed)\n",
    "torch.backends.cudnn.deterministic = True\n",
    "torch.backends.cudnn.benchmark = False\n",
    "\n",
    "# Disable  huffingface tokenizers parallelism <- should huggingface\n",
    "os.environ[\"TOKENIZERS_PARALLELISM\"] = \"false\"\n"
   ]
  },
  {
   "cell_type": "markdown",
   "metadata": {
    "id": "b6gIgmDTumvb"
   },
   "source": [
    "# Load the meetings dataset"
   ]
  },
  {
   "cell_type": "code",
   "execution_count": 2,
   "metadata": {
    "colab": {
     "base_uri": "https://localhost:8080/"
    },
    "executionInfo": {
     "elapsed": 4,
     "status": "ok",
     "timestamp": 1731284337516,
     "user": {
      "displayName": "Runpeng Jian",
      "userId": "02923340238727093107"
     },
     "user_tz": 480
    },
    "id": "OL_vP4Goumvb",
    "outputId": "352887ad-ad55-44c5-bc7b-cdef34bcbe28"
   },
   "outputs": [
    {
     "name": "stdout",
     "output_type": "stream",
     "text": [
      "Total meetings (docs): 230\n"
     ]
    }
   ],
   "source": [
    "from langchain.docstore.document import Document\n",
    "import csv\n",
    "import sys\n",
    "\n",
    "def set_csv_field_limit():\n",
    "    maxInt = sys.maxsize\n",
    "    while True:\n",
    "        try:\n",
    "            csv.field_size_limit(maxInt)\n",
    "            break\n",
    "        except OverflowError:\n",
    "            maxInt = int(maxInt/10)\n",
    "    return maxInt\n",
    "\n",
    "def load_documents(doc_file):\n",
    "    \"\"\"\n",
    "    Loads the document contents from the first file.\n",
    "\n",
    "    :param doc_file: Path to the document file (document ID <TAB> document contents).\n",
    "    :return: A dictionary {document_id: document_contents}.\n",
    "    \"\"\"\n",
    "    # Set the field size limit first\n",
    "    set_csv_field_limit()\n",
    "\n",
    "    documents = {}\n",
    "    with open(doc_file, 'r', encoding='utf-8') as f:\n",
    "        reader = csv.reader(f, delimiter='\\t')\n",
    "        for row in reader:\n",
    "            if len(row)==0: continue\n",
    "            doc_id, content = row\n",
    "            documents[doc_id] = content\n",
    "    return documents\n",
    "\n",
    "# Load and process the documents\n",
    "docs = []\n",
    "doc_file = 'meetings.tsv'\n",
    "documents = load_documents(doc_file)\n",
    "\n",
    "for doc_id in documents:\n",
    "    doc = Document(page_content=documents[doc_id])\n",
    "    metadata = {'source': doc_id}\n",
    "    doc.metadata = metadata\n",
    "    docs.append(doc)\n",
    "\n",
    "print(f\"Total meetings (docs): {len(documents)}\")"
   ]
  },
  {
   "cell_type": "markdown",
   "metadata": {
    "id": "tfFRAwGPumvd"
   },
   "source": [
    "# Retriever - Building the retriever 🗂️"
   ]
  },
  {
   "cell_type": "markdown",
   "metadata": {
    "id": "7RzIq2C3umvd"
   },
   "source": [
    "The **retriever functions like a search engine**: given a user query, it returns relevant documents from the knowledge base.\n",
    "\n",
    "These documents are then used by the Reader model to generate an answer. In this assignment, however, we are only focusing on the retriever, not the Reader model.\n",
    "\n",
    "**Our goal:** Given a user question, find the most relevant documents from the knowledge base.\n",
    "\n",
    "Key parameters:\n",
    "- `top_k`: The number of documents to retrieve. Increasing `top_k` can improve the chances of retrieving relevant content.\n",
    "- `chunk size`: The length of each document. While this can vary, avoid overly long documents, as too many tokens can overwhelm most reader models.\n",
    "\n",
    "\n",
    "Langchain __offers a huge variety of options for vector databases and allows us to keep document metadata throughout the processing__."
   ]
  },
  {
   "cell_type": "markdown",
   "metadata": {
    "id": "9m7pdV-Xumvd"
   },
   "source": [
    " ### 1. Specify an Embedding Model and Visualize Document Lengths\n"
   ]
  },
  {
   "cell_type": "code",
   "execution_count": 3,
   "metadata": {
    "colab": {
     "base_uri": "https://localhost:8080/",
     "height": 501,
     "referenced_widgets": [
      "01f33dd22cde4935b251fc1ccec28b06",
      "dbaa70ee635e4e8ebdf55c00449ba804",
      "cdbfbc4cf6f74e7e885c147e3aa2f33c",
      "9aa28e63d210437e87bbad2c5faea550",
      "424c827f13d346d7a1aef2e40b3ed31d",
      "aa567554981c449e9a19d2cc80a15a18",
      "5a1b783c75ab49af9e428085777d5c2b",
      "66e6956c50b64d9ba8fb03e8fc38471c",
      "b81068c5e79f4697b1ec9033c2472a2f",
      "885282abe8984dd589b5e8b271c70351",
      "c54bd6023b894bc18350e7f99cb56b3e"
     ]
    },
    "executionInfo": {
     "elapsed": 23646,
     "status": "ok",
     "timestamp": 1731284361159,
     "user": {
      "displayName": "Runpeng Jian",
      "userId": "02923340238727093107"
     },
     "user_tz": 480
    },
    "id": "s0fGIq3zumvd",
    "outputId": "8d49ed64-8250-4e2c-e20e-123259911edd"
   },
   "outputs": [
    {
     "name": "stdout",
     "output_type": "stream",
     "text": [
      "Model's maximum sequence length: 512\n"
     ]
    },
    {
     "data": {
      "application/vnd.jupyter.widget-view+json": {
       "model_id": "d2d7031235bd4f4a9128aa14be607450",
       "version_major": 2,
       "version_minor": 0
      },
      "text/plain": [
       "  0%|          | 0/230 [00:00<?, ?it/s]"
      ]
     },
     "metadata": {},
     "output_type": "display_data"
    },
    {
     "data": {
      "image/png": "[encoded data removed]",
      "text/plain": [
       "<Figure size 640x480 with 1 Axes>"
      ]
     },
     "metadata": {},
     "output_type": "display_data"
    }
   ],
   "source": [
    "EMBEDDING_MODEL_NAME = \"thenlper/gte-small\"\n",
    "\n",
    "from sentence_transformers import SentenceTransformer\n",
    "\n",
    "print(\n",
    "    f\"Model's maximum sequence length: {SentenceTransformer(EMBEDDING_MODEL_NAME).max_seq_length}\"\n",
    ")\n",
    "\n",
    "from transformers import AutoTokenizer\n",
    "\n",
    "tokenizer = AutoTokenizer.from_pretrained(EMBEDDING_MODEL_NAME)\n",
    "lengths = [len(tokenizer.encode(doc.page_content)) for doc in tqdm(docs)]\n",
    "\n",
    "# Plot the distribution of document lengths, counted as the number of tokens\n",
    "fig = pd.Series(lengths).hist()\n",
    "plt.title(\"Distribution of document lengths in the knowledge base (in count of tokens)\")\n",
    "plt.show()"
   ]
  },
  {
   "cell_type": "markdown",
   "metadata": {
    "id": "OgQzRWqNumvd"
   },
   "source": [
    "### 2. Split the Documents into Chunks\n",
    "\n",
    "The documents (meeting transcripts) are very long—some up to 30,000 tokens! To make retrieval effective, we’ll **split each document into smaller, semantically meaningful chunks**. These chunks will serve as the snippets the retriever compares to the query, returning the `top_k` most relevant ones.\n",
    "\n",
    "**Objective**: Create Semantically Relevant Snippets\n",
    "\n",
    "Chunks should be long enough to capture complete ideas but not so lengthy that they lose focus.\n",
    "\n",
    "We will use Langchain's implementation of recursive chunking with `RecursiveCharacterTextSplitter`.\n",
    "- Parameter `chunk_size` controls the length of individual chunks: this length is counted by default as the number of characters in the chunk.\n",
    "- Parameter `chunk_overlap` lets adjacent chunks get a bit of overlap on each other. This reduces the probability that an idea could be cut in half by the split between two adjacent chunks.\n",
    "\n",
    "From the produced plot below, you can see that now the chunk length distribution looks better!"
   ]
  },
  {
   "cell_type": "code",
   "execution_count": 4,
   "metadata": {
    "colab": {
     "base_uri": "https://localhost:8080/",
     "height": 501,
     "referenced_widgets": [
      "75768aac5c9c420e88796c9637557d7a",
      "9708a67aa94a4b0babd63ce89a328d11",
      "0e9edef7b1bc4fddac576d1d6b9080ea",
      "19ba855ec2404856a2cba7ad451b9021",
      "7a33f51157164324a9bf871af54e2140",
      "faf92c79609f41e78b82b2b6f6e9e354",
      "21da30f58191447a8a7a0daa08ace10b",
      "878da6d48d014346bb2460d0276a1647",
      "b01d2f8e35ca4c0c993c70fa59dec499",
      "d4ad90e60abd40a481bf4eed0e4bdf54",
      "01c4b26169344756a5004ae29d7ae15e"
     ]
    },
    "executionInfo": {
     "elapsed": 32792,
     "status": "ok",
     "timestamp": 1731284393949,
     "user": {
      "displayName": "Runpeng Jian",
      "userId": "02923340238727093107"
     },
     "user_tz": 480
    },
    "id": "4Ur0Kzz8M5Sj",
    "outputId": "1153b109-efbe-4c82-8950-efbda4b59342"
   },
   "outputs": [
    {
     "name": "stdout",
     "output_type": "stream",
     "text": [
      "Total 18070 snippets to be stored in our vector store.\n"
     ]
    },
    {
     "data": {
      "application/vnd.jupyter.widget-view+json": {
       "model_id": "c8a7279f02494b42a495b1c374b285bb",
       "version_major": 2,
       "version_minor": 0
      },
      "text/plain": [
       "  0%|          | 0/18070 [00:00<?, ?it/s]"
      ]
     },
     "metadata": {},
     "output_type": "display_data"
    },
    {
     "data": {
      "image/png": "[encoded data removed]",
      "text/plain": [
       "<Figure size 640x480 with 1 Axes>"
      ]
     },
     "metadata": {},
     "output_type": "display_data"
    }
   ],
   "source": [
    "from langchain.text_splitter import RecursiveCharacterTextSplitter\n",
    "\n",
    "text_splitter = RecursiveCharacterTextSplitter(\n",
    "    chunk_size = 768,\n",
    "    chunk_overlap = 128,\n",
    ")\n",
    "\n",
    "doc_snippets = text_splitter.split_documents(docs)\n",
    "print(f\"Total {len(doc_snippets)} snippets to be stored in our vector store.\")\n",
    "\n",
    "lengths = [len(tokenizer.encode(doc.page_content)) for doc in tqdm(doc_snippets)]\n",
    "\n",
    "# Plot the distribution of document snippet lengths, counted as the number of tokens\n",
    "fig = pd.Series(lengths).hist()\n",
    "plt.title(\"Distribution of document lengths in the knowledge base (in count of tokens)\")\n",
    "plt.show()"
   ]
  },
  {
   "cell_type": "markdown",
   "metadata": {
    "id": "qd8GpdZkumve"
   },
   "source": [
    "### 3. Build the Vector Database\n",
    "\n",
    "To enable retrieval, we need to compute embeddings for all chunks in our knowledge base. These embeddings will then be stored in a vector database.\n",
    "\n",
    "#### How Retrieval Works\n",
    "\n",
    "A query is embedded using an embedding model and a similarity search finds the closest matching chunks in the vector database.\n",
    "\n",
    "The following cell builds the vector database consisting of  all chunks in our knowledge base.\n"
   ]
  },
  {
   "cell_type": "code",
   "execution_count": 6,
   "metadata": {
    "colab": {
     "base_uri": "https://localhost:8080/"
    },
    "executionInfo": {
     "elapsed": 93095,
     "status": "ok",
     "timestamp": 1731284487042,
     "user": {
      "displayName": "Runpeng Jian",
      "userId": "02923340238727093107"
     },
     "user_tz": 480
    },
    "id": "1GUhbaE-umve",
    "outputId": "568f0c39-f161-42bc-8bd4-4eae3b6c771e"
   },
   "outputs": [
    {
     "name": "stdout",
     "output_type": "stream",
     "text": [
      "Found device: cuda\n",
      "Time taken: 0.3238244573275248 minutes\n"
     ]
    }
   ],
   "source": [
    "from langchain_huggingface import HuggingFaceEmbeddings\n",
    "from langchain.vectorstores import FAISS\n",
    "from langchain_community.vectorstores.utils import DistanceStrategy\n",
    "\n",
    "# Automatically set the device to 'cuda' if available, otherwise use 'cpu'\n",
    "device = \"cuda\" if torch.cuda.is_available() else \"cpu\"\n",
    "print(f\"Found device: {device}\")\n",
    "\n",
    "\n",
    "embedding_model = HuggingFaceEmbeddings(\n",
    "    model_name=EMBEDDING_MODEL_NAME,\n",
    "    multi_process=True,\n",
    "    model_kwargs={\"device\": device},\n",
    "    encode_kwargs={\"normalize_embeddings\": True},  # Set `True` for cosine similarity\n",
    ")\n",
    "\n",
    "start_time = time.time()\n",
    "\n",
    "KNOWLEDGE_VECTOR_DATABASE = FAISS.from_documents(\n",
    "    doc_snippets, embedding_model, distance_strategy=DistanceStrategy.COSINE\n",
    ")\n",
    "\n",
    "end_time = time.time()\n",
    "\n",
    "elapsed_time = (end_time - start_time)/60\n",
    "print(f\"Time taken: {elapsed_time} minutes\")\n"
   ]
  },
  {
   "cell_type": "markdown",
   "metadata": {
    "id": "_lXDDWtDumvf"
   },
   "source": [
    "### 4. Querying the Vector Database\n",
    "\n",
    "\n",
    "Using LangChain’s vector database,  the function `vector_database.similarity_search(query)` implements a Bi-Encoder (covered in class), independently encoding the query and each document into a single-vector representation, allowing document embeddings to be precomputed.\n",
    "\n",
    "Let's  define the Bi-Encoder ranking function and then use it on a sample query from the QMSum dataset.\n",
    "\n"
   ]
  },
  {
   "cell_type": "code",
   "execution_count": 7,
   "metadata": {
    "colab": {
     "base_uri": "https://localhost:8080/"
    },
    "executionInfo": {
     "elapsed": 9993,
     "status": "ok",
     "timestamp": 1731284497034,
     "user": {
      "displayName": "Runpeng Jian",
      "userId": "02923340238727093107"
     },
     "user_tz": 480
    },
    "id": "LgqBmHxBoZRM",
    "outputId": "e5c04b9a-c162-47c2-9b3b-764caae26312"
   },
   "outputs": [
    {
     "name": "stdout",
     "output_type": "stream",
     "text": [
      "\n",
      "==================================Top-5 documents==================================\n",
      "\n",
      "\n",
      "Retrieved documents: ['doc_211', 'doc_2', 'doc_43', 'doc_160', 'doc_43']\n",
      "\n",
      "====================================================================\n",
      "\n"
     ]
    }
   ],
   "source": [
    "## The function for ranking documents given a query:\n",
    "def rank_documents_biencoder(user_query, top_k = 5):\n",
    "    \"\"\"\n",
    "    Function for document ranking based on the query.\n",
    "\n",
    "    :param query: The query to retrieve documents for.\n",
    "    :return: A list of document IDs ranked based on the query (mocked).\n",
    "    \"\"\"\n",
    "    retrieved_docs = KNOWLEDGE_VECTOR_DATABASE.similarity_search(query=user_query, k=top_k)\n",
    "    ranked_list = []\n",
    "    for i, doc in enumerate(retrieved_docs):\n",
    "        ranked_list.append(retrieved_docs[i].metadata['source'])\n",
    "\n",
    "    return ranked_list  # ranked document IDs.\n",
    "\n",
    "\n",
    "user_query = \"what did kirsty williams am say about her plan for quality assurance ?\"\n",
    "retrieved_docs = rank_documents_biencoder(user_query)\n",
    "\n",
    "print(\"\\n==================================Top-5 documents==================================\")\n",
    "print(\"\\n\\nRetrieved documents:\", retrieved_docs)\n",
    "print(\"\\n====================================================================\\n\")"
   ]
  },
  {
   "cell_type": "markdown",
   "metadata": {
    "id": "Lpn_GkMhqyU2"
   },
   "source": [
    "### <font color=\"red\">5. TODO: Implementation of ColBERT as a Reranker for a Bi-Encoder (35 points)</font>\n",
    "\n",
    "The Bi-Encoder’s ranking for the sample query is not optimal: the ground truth document is not ranked at position 1, instead the document ID, **doc_211** is ranked at position 1.  To determine the correct document ID for this query, refer to the `questions_answers.tsv` file.\n",
    "\n",
    "In this task, you will implement the [ColBERT](https://arxiv.org/pdf/2004.12832) approach by Khattab and Zaharia. We’ll use a simplified version of ColBERT, focusing on the following key steps:\n",
    "\n",
    "1. Retrieve the top \\( K = 15 \\) documents for query \\( q \\) using the Bi-Encoder.\n",
    "2. Re-rank these top \\( K = 15 \\) documents using ColBERT's fine-grained interaction scoring. This will involve:\n",
    "   - Using frozen BERT embeddings from a HuggingFace BERT model (no training is required, thus our version is not expected to work as well as full-fledged ColBERT).\n",
    "   - Calculating scores based on fine-grained token-level interactions between the query and each document.\n",
    "3. Implement the method `rank_documents_finegrained_interactions()` to perform this re-ranking.\n",
    "   - Test your method on the same query as in the cell from #4 above.\n",
    "   - Print out the entire re-ranked document list of 5 document IDs, as done in  #4 above (the code below does it for you)\n",
    "4. Ensure that your ColBERT implementation ranks the correct document at position 1 for the sample query.\n",
    "\n",
    "\n",
    "***Note***: Since the same document is divided into multiple chunks that retain the original document ID, you may see the same document ID appear multiple times in your top_k results. However, each instance refers to a different chunk of the document's content.\n",
    "\n",
    "***Note2***:  For this PA we are not focused on query latency, just the late interactions part in the ColBERT approach. Thus, we don't have to pre-compute document matrix representations for ColBERT.\n"
   ]
  },
  {
   "cell_type": "code",
   "execution_count": 8,
   "metadata": {
    "colab": {
     "base_uri": "https://localhost:8080/"
    },
    "executionInfo": {
     "elapsed": 15001,
     "status": "ok",
     "timestamp": 1731284512033,
     "user": {
      "displayName": "Runpeng Jian",
      "userId": "02923340238727093107"
     },
     "user_tz": 480
    },
    "id": "DugEteFxqo8b",
    "outputId": "dc5da8ca-3b28-4760-9d1f-24776c9d3a61"
   },
   "outputs": [
    {
     "data": {
      "application/vnd.jupyter.widget-view+json": {
       "model_id": "b074b5fa6343421391825afc86e35b5b",
       "version_major": 2,
       "version_minor": 0
      },
      "text/plain": [
       "tokenizer_config.json:   0%|          | 0.00/48.0 [00:00<?, ?B/s]"
      ]
     },
     "metadata": {},
     "output_type": "display_data"
    },
    {
     "name": "stderr",
     "output_type": "stream",
     "text": [
      "c:\\Users\\Admin\\anaconda3\\envs\\cse256pa1\\Lib\\site-packages\\huggingface_hub\\file_download.py:139: UserWarning: `huggingface_hub` cache-system uses symlinks by default to efficiently store duplicated files but your machine does not support them in C:\\Users\\Admin\\.cache\\huggingface\\hub\\models--bert-base-uncased. Caching files will still work but in a degraded version that might require more space on your disk. This warning can be disabled by setting the `HF_HUB_DISABLE_SYMLINKS_WARNING` environment variable. For more details, see https://huggingface.co/docs/huggingface_hub/how-to-cache#limitations.\n",
      "To support symlinks on Windows, you either need to activate Developer Mode or to run Python as an administrator. In order to activate developer mode, see this article: https://docs.microsoft.com/en-us/windows/apps/get-started/enable-your-device-for-development\n",
      "  warnings.warn(message)\n"
     ]
    },
    {
     "data": {
      "application/vnd.jupyter.widget-view+json": {
       "model_id": "d497260d07394c4aa04d4648a7fd4c06",
       "version_major": 2,
       "version_minor": 0
      },
      "text/plain": [
       "config.json:   0%|          | 0.00/570 [00:00<?, ?B/s]"
      ]
     },
     "metadata": {},
     "output_type": "display_data"
    },
    {
     "data": {
      "application/vnd.jupyter.widget-view+json": {
       "model_id": "90c2bf703db5490a8a8c82c4976f3160",
       "version_major": 2,
       "version_minor": 0
      },
      "text/plain": [
       "vocab.txt:   0%|          | 0.00/232k [00:00<?, ?B/s]"
      ]
     },
     "metadata": {},
     "output_type": "display_data"
    },
    {
     "data": {
      "application/vnd.jupyter.widget-view+json": {
       "model_id": "0a5debcaf5fb458498c1d7d1048b469f",
       "version_major": 2,
       "version_minor": 0
      },
      "text/plain": [
       "tokenizer.json:   0%|          | 0.00/466k [00:00<?, ?B/s]"
      ]
     },
     "metadata": {},
     "output_type": "display_data"
    },
    {
     "data": {
      "application/vnd.jupyter.widget-view+json": {
       "model_id": "ae44231919ec4573961ad5c005fa7b97",
       "version_major": 2,
       "version_minor": 0
      },
      "text/plain": [
       "model.safetensors:   0%|          | 0.00/440M [00:00<?, ?B/s]"
      ]
     },
     "metadata": {},
     "output_type": "display_data"
    },
    {
     "name": "stdout",
     "output_type": "stream",
     "text": [
      "\n",
      "==================================Top-5 documents==================================\n",
      "\n",
      "\n",
      "Retrieved documents: ['doc_2', 'doc_102', 'doc_2', 'doc_160', 'doc_160']\n",
      "\n",
      "====================================================================\n",
      "\n"
     ]
    }
   ],
   "source": [
    "import torch\n",
    "import torch.nn.functional as F\n",
    "from transformers import AutoTokenizer, AutoModel\n",
    "\n",
    "\n",
    "# Load tokenizer and model BERT from HuggingFace\n",
    "tokenizer = AutoTokenizer.from_pretrained(\"bert-base-uncased\")\n",
    "model = AutoModel.from_pretrained(\"bert-base-uncased\")\n",
    "\n",
    "\n",
    "def rank_documents_finegrained_interactions(user_query, shortlist = 15, top_k=5):\n",
    "\n",
    "    \"\"\"\n",
    "    Rerank the top-K=15 retrieved documents from Bi-encoder using fine-grained token-level interactions\n",
    "    and return the top_k=5 most similar documents.\n",
    "\n",
    "    Args:\n",
    "    - user_query (str): The user query string.\n",
    "    - shortlist (list): Number of documents in the longer short list\n",
    "    - top_k (int): Number of top reranked documents to return.\n",
    "\n",
    "    Returns:\n",
    "    - ranked_list of document IDs.\n",
    "    \"\"\"\n",
    "\n",
    "    retrieved_docs = KNOWLEDGE_VECTOR_DATABASE.similarity_search(query=user_query, k=shortlist)\n",
    "\n",
    "\n",
    "    # Tokenize the user query\n",
    "    query_inputs = tokenizer(user_query, return_tensors='pt', truncation=True, padding=True)\n",
    "\n",
    "    # Get query token embeddings from BERT\n",
    "    with torch.no_grad():\n",
    "        query_embeddings = model(**query_inputs).last_hidden_state  # Shape: (1, seq_len_query, hidden_dim)\n",
    "\n",
    "    ranked_list = []\n",
    "\n",
    "    ### YOUR CODE HERE\n",
    "    ranked_scores = []\n",
    "    for doc in retrieved_docs:\n",
    "        # Tokenize the document content\n",
    "        doc_inputs = tokenizer(doc.page_content, return_tensors='pt', truncation=True, padding=True)\n",
    "        doc_embeddings = model(**doc_inputs).last_hidden_state\n",
    "\n",
    "        similarity_matrix = torch.matmul(query_embeddings, doc_embeddings.transpose(-2, -1))\n",
    "\n",
    "        max_similarities = torch.max(similarity_matrix, dim=-1).values\n",
    "        doc_score = max_similarities.sum().item()\n",
    "        # mean_similarities = torch.mean(similarity_matrix, dim=-1)\n",
    "        # doc_score = mean_similarities.sum().item()\n",
    "\n",
    "        ranked_scores.append([doc_score, doc.metadata['source']])\n",
    "\n",
    "    ranked_scores.sort(reverse=True)\n",
    "\n",
    "    ranked_list = [ranked_scores[i][1] for i in range(top_k)]\n",
    "\n",
    "\n",
    "    return ranked_list  # ranked document IDs\n",
    "\n",
    "\n",
    "user_query = \"what did kirsty williams am say about her plan for quality assurance ?\"\n",
    "retrieved_docs = rank_documents_finegrained_interactions(user_query)\n",
    "\n",
    "print(\"\\n==================================Top-5 documents==================================\")\n",
    "print(\"\\n\\nRetrieved documents:\", retrieved_docs)\n",
    "print(\"\\n====================================================================\\n\")"
   ]
  },
  {
   "cell_type": "markdown",
   "metadata": {
    "id": "vgLja6qt0-To"
   },
   "source": [
    "### <font color=\"green\">  7.  (Optional) Full evaluation pipeline for your own exploration. </font>\n",
    "\n",
    "\n",
    "For this assignment, we only ask you to explore  one  sample query.\n",
    "Running on many queries is super slow without the right compute.\n",
    "If you have compute/and/or time to wait, below is a more complete evaluation setup that works with all the queries in QMSum dataset, and  reports the  `precision@k=5` metric.\n",
    "\n",
    "\n",
    "**Note**: you need to remove the comment markers from the code below."
   ]
  },
  {
   "cell_type": "code",
   "execution_count": 9,
   "metadata": {
    "executionInfo": {
     "elapsed": 2,
     "status": "ok",
     "timestamp": 1731284512033,
     "user": {
      "displayName": "Runpeng Jian",
      "userId": "02923340238727093107"
     },
     "user_tz": 480
    },
    "id": "f0pjYhz1umvj"
   },
   "outputs": [
    {
     "name": "stdout",
     "output_type": "stream",
     "text": [
      "After 10 queries, Precision@5: 0.3\n",
      "After 20 queries, Precision@5: 0.4\n",
      "After 30 queries, Precision@5: 0.4\n",
      "After 40 queries, Precision@5: 0.375\n",
      "After 50 queries, Precision@5: 0.44\n",
      "After 60 queries, Precision@5: 0.43333333333333335\n",
      "After 70 queries, Precision@5: 0.44285714285714284\n",
      "After 80 queries, Precision@5: 0.4375\n",
      "After 90 queries, Precision@5: 0.43333333333333335\n",
      "After 100 queries, Precision@5: 0.45\n",
      "After 110 queries, Precision@5: 0.42727272727272725\n",
      "After 120 queries, Precision@5: 0.44166666666666665\n",
      "After 130 queries, Precision@5: 0.45384615384615384\n",
      "After 140 queries, Precision@5: 0.4714285714285714\n",
      "After 150 queries, Precision@5: 0.47333333333333333\n",
      "After 160 queries, Precision@5: 0.48125\n",
      "After 170 queries, Precision@5: 0.4764705882352941\n",
      "After 180 queries, Precision@5: 0.4777777777777778\n",
      "After 190 queries, Precision@5: 0.46842105263157896\n",
      "After 200 queries, Precision@5: 0.47\n",
      "After 210 queries, Precision@5: 0.46190476190476193\n",
      "After 220 queries, Precision@5: 0.45\n",
      "After 230 queries, Precision@5: 0.45652173913043476\n",
      "After 240 queries, Precision@5: 0.4583333333333333\n",
      "After 250 queries, Precision@5: 0.456\n",
      "After 260 queries, Precision@5: 0.45384615384615384\n",
      "After 270 queries, Precision@5: 0.4666666666666667\n",
      "After 280 queries, Precision@5: 0.4642857142857143\n",
      "After 290 queries, Precision@5: 0.4586206896551724\n",
      "After 300 queries, Precision@5: 0.4633333333333333\n",
      "After 310 queries, Precision@5: 0.45161290322580644\n",
      "After 320 queries, Precision@5: 0.453125\n",
      "After 330 queries, Precision@5: 0.4575757575757576\n",
      "After 340 queries, Precision@5: 0.4588235294117647\n"
     ]
    },
    {
     "ename": "KeyboardInterrupt",
     "evalue": "",
     "output_type": "error",
     "traceback": [
      "\u001b[1;31m---------------------------------------------------------------------------\u001b[0m",
      "\u001b[1;31mKeyboardInterrupt\u001b[0m                         Traceback (most recent call last)",
      "Cell \u001b[1;32mIn[9], line 63\u001b[0m\n\u001b[0;32m     60\u001b[0m qa_file \u001b[38;5;241m=\u001b[39m \u001b[38;5;124m'\u001b[39m\u001b[38;5;124mquestions_answers.tsv\u001b[39m\u001b[38;5;124m'\u001b[39m  \u001b[38;5;66;03m# document ID <TAB> question <TAB> answer\u001b[39;00m\n\u001b[0;32m     62\u001b[0m start_time \u001b[38;5;241m=\u001b[39m time\u001b[38;5;241m.\u001b[39mtime()\n\u001b[1;32m---> 63\u001b[0m \u001b[43mevaluate\u001b[49m\u001b[43m(\u001b[49m\u001b[43mdoc_file\u001b[49m\u001b[43m,\u001b[49m\u001b[43m \u001b[49m\u001b[43mqa_file\u001b[49m\u001b[43m,\u001b[49m\u001b[43mrank_documents_biencoder\u001b[49m\u001b[43m)\u001b[49m\n\u001b[0;32m     64\u001b[0m end_time \u001b[38;5;241m=\u001b[39m time\u001b[38;5;241m.\u001b[39mtime()\n\u001b[0;32m     65\u001b[0m elapsed_time \u001b[38;5;241m=\u001b[39m (end_time \u001b[38;5;241m-\u001b[39m start_time)\u001b[38;5;241m/\u001b[39m\u001b[38;5;241m60\u001b[39m\n",
      "Cell \u001b[1;32mIn[9], line 46\u001b[0m, in \u001b[0;36mevaluate\u001b[1;34m(doc_file, qa_file, ranking_fuction, k)\u001b[0m\n\u001b[0;32m     41\u001b[0m precision_scores \u001b[38;5;241m=\u001b[39m []\n\u001b[0;32m     44\u001b[0m \u001b[38;5;28;01mfor\u001b[39;00m doc_id, question, _ \u001b[38;5;129;01min\u001b[39;00m qa_pairs:\n\u001b[1;32m---> 46\u001b[0m     retrieved_docs \u001b[38;5;241m=\u001b[39m \u001b[43mranking_fuction\u001b[49m\u001b[43m(\u001b[49m\u001b[43mquestion\u001b[49m\u001b[43m)\u001b[49m\n\u001b[0;32m     47\u001b[0m     precision_scores\u001b[38;5;241m.\u001b[39mappend(precision_at_k(doc_id, retrieved_docs, k))\n\u001b[0;32m     49\u001b[0m     avg_precision_at_k \u001b[38;5;241m=\u001b[39m \u001b[38;5;28msum\u001b[39m(precision_scores) \u001b[38;5;241m/\u001b[39m \u001b[38;5;28mlen\u001b[39m(precision_scores)\n",
      "Cell \u001b[1;32mIn[7], line 9\u001b[0m, in \u001b[0;36mrank_documents_biencoder\u001b[1;34m(user_query, top_k)\u001b[0m\n\u001b[0;32m      2\u001b[0m \u001b[38;5;28;01mdef\u001b[39;00m \u001b[38;5;21mrank_documents_biencoder\u001b[39m(user_query, top_k \u001b[38;5;241m=\u001b[39m \u001b[38;5;241m5\u001b[39m):\n\u001b[0;32m      3\u001b[0m \u001b[38;5;250m    \u001b[39m\u001b[38;5;124;03m\"\"\"\u001b[39;00m\n\u001b[0;32m      4\u001b[0m \u001b[38;5;124;03m    Function for document ranking based on the query.\u001b[39;00m\n\u001b[0;32m      5\u001b[0m \n\u001b[0;32m      6\u001b[0m \u001b[38;5;124;03m    :param query: The query to retrieve documents for.\u001b[39;00m\n\u001b[0;32m      7\u001b[0m \u001b[38;5;124;03m    :return: A list of document IDs ranked based on the query (mocked).\u001b[39;00m\n\u001b[0;32m      8\u001b[0m \u001b[38;5;124;03m    \"\"\"\u001b[39;00m\n\u001b[1;32m----> 9\u001b[0m     retrieved_docs \u001b[38;5;241m=\u001b[39m \u001b[43mKNOWLEDGE_VECTOR_DATABASE\u001b[49m\u001b[38;5;241;43m.\u001b[39;49m\u001b[43msimilarity_search\u001b[49m\u001b[43m(\u001b[49m\u001b[43mquery\u001b[49m\u001b[38;5;241;43m=\u001b[39;49m\u001b[43muser_query\u001b[49m\u001b[43m,\u001b[49m\u001b[43m \u001b[49m\u001b[43mk\u001b[49m\u001b[38;5;241;43m=\u001b[39;49m\u001b[43mtop_k\u001b[49m\u001b[43m)\u001b[49m\n\u001b[0;32m     10\u001b[0m     ranked_list \u001b[38;5;241m=\u001b[39m []\n\u001b[0;32m     11\u001b[0m     \u001b[38;5;28;01mfor\u001b[39;00m i, doc \u001b[38;5;129;01min\u001b[39;00m \u001b[38;5;28menumerate\u001b[39m(retrieved_docs):\n",
      "File \u001b[1;32mc:\\Users\\Admin\\anaconda3\\envs\\cse256pa1\\Lib\\site-packages\\langchain_community\\vectorstores\\faiss.py:641\u001b[0m, in \u001b[0;36mFAISS.similarity_search\u001b[1;34m(self, query, k, filter, fetch_k, **kwargs)\u001b[0m\n\u001b[0;32m    621\u001b[0m \u001b[38;5;28;01mdef\u001b[39;00m \u001b[38;5;21msimilarity_search\u001b[39m(\n\u001b[0;32m    622\u001b[0m     \u001b[38;5;28mself\u001b[39m,\n\u001b[0;32m    623\u001b[0m     query: \u001b[38;5;28mstr\u001b[39m,\n\u001b[1;32m   (...)\u001b[0m\n\u001b[0;32m    627\u001b[0m     \u001b[38;5;241m*\u001b[39m\u001b[38;5;241m*\u001b[39mkwargs: Any,\n\u001b[0;32m    628\u001b[0m ) \u001b[38;5;241m-\u001b[39m\u001b[38;5;241m>\u001b[39m List[Document]:\n\u001b[0;32m    629\u001b[0m \u001b[38;5;250m    \u001b[39m\u001b[38;5;124;03m\"\"\"Return docs most similar to query.\u001b[39;00m\n\u001b[0;32m    630\u001b[0m \n\u001b[0;32m    631\u001b[0m \u001b[38;5;124;03m    Args:\u001b[39;00m\n\u001b[1;32m   (...)\u001b[0m\n\u001b[0;32m    639\u001b[0m \u001b[38;5;124;03m        List of Documents most similar to the query.\u001b[39;00m\n\u001b[0;32m    640\u001b[0m \u001b[38;5;124;03m    \"\"\"\u001b[39;00m\n\u001b[1;32m--> 641\u001b[0m     docs_and_scores \u001b[38;5;241m=\u001b[39m \u001b[38;5;28;43mself\u001b[39;49m\u001b[38;5;241;43m.\u001b[39;49m\u001b[43msimilarity_search_with_score\u001b[49m\u001b[43m(\u001b[49m\n\u001b[0;32m    642\u001b[0m \u001b[43m        \u001b[49m\u001b[43mquery\u001b[49m\u001b[43m,\u001b[49m\u001b[43m \u001b[49m\u001b[43mk\u001b[49m\u001b[43m,\u001b[49m\u001b[43m \u001b[49m\u001b[38;5;28;43mfilter\u001b[39;49m\u001b[38;5;241;43m=\u001b[39;49m\u001b[38;5;28;43mfilter\u001b[39;49m\u001b[43m,\u001b[49m\u001b[43m \u001b[49m\u001b[43mfetch_k\u001b[49m\u001b[38;5;241;43m=\u001b[39;49m\u001b[43mfetch_k\u001b[49m\u001b[43m,\u001b[49m\u001b[43m \u001b[49m\u001b[38;5;241;43m*\u001b[39;49m\u001b[38;5;241;43m*\u001b[39;49m\u001b[43mkwargs\u001b[49m\n\u001b[0;32m    643\u001b[0m \u001b[43m    \u001b[49m\u001b[43m)\u001b[49m\n\u001b[0;32m    644\u001b[0m     \u001b[38;5;28;01mreturn\u001b[39;00m [doc \u001b[38;5;28;01mfor\u001b[39;00m doc, _ \u001b[38;5;129;01min\u001b[39;00m docs_and_scores]\n",
      "File \u001b[1;32mc:\\Users\\Admin\\anaconda3\\envs\\cse256pa1\\Lib\\site-packages\\langchain_community\\vectorstores\\faiss.py:513\u001b[0m, in \u001b[0;36mFAISS.similarity_search_with_score\u001b[1;34m(self, query, k, filter, fetch_k, **kwargs)\u001b[0m\n\u001b[0;32m    489\u001b[0m \u001b[38;5;28;01mdef\u001b[39;00m \u001b[38;5;21msimilarity_search_with_score\u001b[39m(\n\u001b[0;32m    490\u001b[0m     \u001b[38;5;28mself\u001b[39m,\n\u001b[0;32m    491\u001b[0m     query: \u001b[38;5;28mstr\u001b[39m,\n\u001b[1;32m   (...)\u001b[0m\n\u001b[0;32m    495\u001b[0m     \u001b[38;5;241m*\u001b[39m\u001b[38;5;241m*\u001b[39mkwargs: Any,\n\u001b[0;32m    496\u001b[0m ) \u001b[38;5;241m-\u001b[39m\u001b[38;5;241m>\u001b[39m List[Tuple[Document, \u001b[38;5;28mfloat\u001b[39m]]:\n\u001b[0;32m    497\u001b[0m \u001b[38;5;250m    \u001b[39m\u001b[38;5;124;03m\"\"\"Return docs most similar to query.\u001b[39;00m\n\u001b[0;32m    498\u001b[0m \n\u001b[0;32m    499\u001b[0m \u001b[38;5;124;03m    Args:\u001b[39;00m\n\u001b[1;32m   (...)\u001b[0m\n\u001b[0;32m    511\u001b[0m \u001b[38;5;124;03m        L2 distance in float. Lower score represents more similarity.\u001b[39;00m\n\u001b[0;32m    512\u001b[0m \u001b[38;5;124;03m    \"\"\"\u001b[39;00m\n\u001b[1;32m--> 513\u001b[0m     embedding \u001b[38;5;241m=\u001b[39m \u001b[38;5;28;43mself\u001b[39;49m\u001b[38;5;241;43m.\u001b[39;49m\u001b[43m_embed_query\u001b[49m\u001b[43m(\u001b[49m\u001b[43mquery\u001b[49m\u001b[43m)\u001b[49m\n\u001b[0;32m    514\u001b[0m     docs \u001b[38;5;241m=\u001b[39m \u001b[38;5;28mself\u001b[39m\u001b[38;5;241m.\u001b[39msimilarity_search_with_score_by_vector(\n\u001b[0;32m    515\u001b[0m         embedding,\n\u001b[0;32m    516\u001b[0m         k,\n\u001b[1;32m   (...)\u001b[0m\n\u001b[0;32m    519\u001b[0m         \u001b[38;5;241m*\u001b[39m\u001b[38;5;241m*\u001b[39mkwargs,\n\u001b[0;32m    520\u001b[0m     )\n\u001b[0;32m    521\u001b[0m     \u001b[38;5;28;01mreturn\u001b[39;00m docs\n",
      "File \u001b[1;32mc:\\Users\\Admin\\anaconda3\\envs\\cse256pa1\\Lib\\site-packages\\langchain_community\\vectorstores\\faiss.py:265\u001b[0m, in \u001b[0;36mFAISS._embed_query\u001b[1;34m(self, text)\u001b[0m\n\u001b[0;32m    263\u001b[0m \u001b[38;5;28;01mdef\u001b[39;00m \u001b[38;5;21m_embed_query\u001b[39m(\u001b[38;5;28mself\u001b[39m, text: \u001b[38;5;28mstr\u001b[39m) \u001b[38;5;241m-\u001b[39m\u001b[38;5;241m>\u001b[39m List[\u001b[38;5;28mfloat\u001b[39m]:\n\u001b[0;32m    264\u001b[0m     \u001b[38;5;28;01mif\u001b[39;00m \u001b[38;5;28misinstance\u001b[39m(\u001b[38;5;28mself\u001b[39m\u001b[38;5;241m.\u001b[39membedding_function, Embeddings):\n\u001b[1;32m--> 265\u001b[0m         \u001b[38;5;28;01mreturn\u001b[39;00m \u001b[38;5;28;43mself\u001b[39;49m\u001b[38;5;241;43m.\u001b[39;49m\u001b[43membedding_function\u001b[49m\u001b[38;5;241;43m.\u001b[39;49m\u001b[43membed_query\u001b[49m\u001b[43m(\u001b[49m\u001b[43mtext\u001b[49m\u001b[43m)\u001b[49m\n\u001b[0;32m    266\u001b[0m     \u001b[38;5;28;01melse\u001b[39;00m:\n\u001b[0;32m    267\u001b[0m         \u001b[38;5;28;01mreturn\u001b[39;00m \u001b[38;5;28mself\u001b[39m\u001b[38;5;241m.\u001b[39membedding_function(text)\n",
      "File \u001b[1;32mc:\\Users\\Admin\\anaconda3\\envs\\cse256pa1\\Lib\\site-packages\\langchain_huggingface\\embeddings\\huggingface.py:108\u001b[0m, in \u001b[0;36mHuggingFaceEmbeddings.embed_query\u001b[1;34m(self, text)\u001b[0m\n\u001b[0;32m     99\u001b[0m \u001b[38;5;28;01mdef\u001b[39;00m \u001b[38;5;21membed_query\u001b[39m(\u001b[38;5;28mself\u001b[39m, text: \u001b[38;5;28mstr\u001b[39m) \u001b[38;5;241m-\u001b[39m\u001b[38;5;241m>\u001b[39m List[\u001b[38;5;28mfloat\u001b[39m]:\n\u001b[0;32m    100\u001b[0m \u001b[38;5;250m    \u001b[39m\u001b[38;5;124;03m\"\"\"Compute query embeddings using a HuggingFace transformer model.\u001b[39;00m\n\u001b[0;32m    101\u001b[0m \n\u001b[0;32m    102\u001b[0m \u001b[38;5;124;03m    Args:\u001b[39;00m\n\u001b[1;32m   (...)\u001b[0m\n\u001b[0;32m    106\u001b[0m \u001b[38;5;124;03m        Embeddings for the text.\u001b[39;00m\n\u001b[0;32m    107\u001b[0m \u001b[38;5;124;03m    \"\"\"\u001b[39;00m\n\u001b[1;32m--> 108\u001b[0m     \u001b[38;5;28;01mreturn\u001b[39;00m \u001b[38;5;28;43mself\u001b[39;49m\u001b[38;5;241;43m.\u001b[39;49m\u001b[43membed_documents\u001b[49m\u001b[43m(\u001b[49m\u001b[43m[\u001b[49m\u001b[43mtext\u001b[49m\u001b[43m]\u001b[49m\u001b[43m)\u001b[49m[\u001b[38;5;241m0\u001b[39m]\n",
      "File \u001b[1;32mc:\\Users\\Admin\\anaconda3\\envs\\cse256pa1\\Lib\\site-packages\\langchain_huggingface\\embeddings\\huggingface.py:81\u001b[0m, in \u001b[0;36mHuggingFaceEmbeddings.embed_documents\u001b[1;34m(self, texts)\u001b[0m\n\u001b[0;32m     79\u001b[0m texts \u001b[38;5;241m=\u001b[39m \u001b[38;5;28mlist\u001b[39m(\u001b[38;5;28mmap\u001b[39m(\u001b[38;5;28;01mlambda\u001b[39;00m x: x\u001b[38;5;241m.\u001b[39mreplace(\u001b[38;5;124m\"\u001b[39m\u001b[38;5;130;01m\\n\u001b[39;00m\u001b[38;5;124m\"\u001b[39m, \u001b[38;5;124m\"\u001b[39m\u001b[38;5;124m \u001b[39m\u001b[38;5;124m\"\u001b[39m), texts))\n\u001b[0;32m     80\u001b[0m \u001b[38;5;28;01mif\u001b[39;00m \u001b[38;5;28mself\u001b[39m\u001b[38;5;241m.\u001b[39mmulti_process:\n\u001b[1;32m---> 81\u001b[0m     pool \u001b[38;5;241m=\u001b[39m \u001b[38;5;28;43mself\u001b[39;49m\u001b[38;5;241;43m.\u001b[39;49m\u001b[43m_client\u001b[49m\u001b[38;5;241;43m.\u001b[39;49m\u001b[43mstart_multi_process_pool\u001b[49m\u001b[43m(\u001b[49m\u001b[43m)\u001b[49m\n\u001b[0;32m     82\u001b[0m     embeddings \u001b[38;5;241m=\u001b[39m \u001b[38;5;28mself\u001b[39m\u001b[38;5;241m.\u001b[39m_client\u001b[38;5;241m.\u001b[39mencode_multi_process(texts, pool)\n\u001b[0;32m     83\u001b[0m     sentence_transformers\u001b[38;5;241m.\u001b[39mSentenceTransformer\u001b[38;5;241m.\u001b[39mstop_multi_process_pool(pool)\n",
      "File \u001b[1;32mc:\\Users\\Admin\\anaconda3\\envs\\cse256pa1\\Lib\\site-packages\\sentence_transformers\\SentenceTransformer.py:857\u001b[0m, in \u001b[0;36mSentenceTransformer.start_multi_process_pool\u001b[1;34m(self, target_devices)\u001b[0m\n\u001b[0;32m    851\u001b[0m \u001b[38;5;28;01mfor\u001b[39;00m device_id \u001b[38;5;129;01min\u001b[39;00m target_devices:\n\u001b[0;32m    852\u001b[0m     p \u001b[38;5;241m=\u001b[39m ctx\u001b[38;5;241m.\u001b[39mProcess(\n\u001b[0;32m    853\u001b[0m         target\u001b[38;5;241m=\u001b[39mSentenceTransformer\u001b[38;5;241m.\u001b[39m_encode_multi_process_worker,\n\u001b[0;32m    854\u001b[0m         args\u001b[38;5;241m=\u001b[39m(device_id, \u001b[38;5;28mself\u001b[39m, input_queue, output_queue),\n\u001b[0;32m    855\u001b[0m         daemon\u001b[38;5;241m=\u001b[39m\u001b[38;5;28;01mTrue\u001b[39;00m,\n\u001b[0;32m    856\u001b[0m     )\n\u001b[1;32m--> 857\u001b[0m     \u001b[43mp\u001b[49m\u001b[38;5;241;43m.\u001b[39;49m\u001b[43mstart\u001b[49m\u001b[43m(\u001b[49m\u001b[43m)\u001b[49m\n\u001b[0;32m    858\u001b[0m     processes\u001b[38;5;241m.\u001b[39mappend(p)\n\u001b[0;32m    860\u001b[0m \u001b[38;5;28;01mreturn\u001b[39;00m {\u001b[38;5;124m\"\u001b[39m\u001b[38;5;124minput\u001b[39m\u001b[38;5;124m\"\u001b[39m: input_queue, \u001b[38;5;124m\"\u001b[39m\u001b[38;5;124moutput\u001b[39m\u001b[38;5;124m\"\u001b[39m: output_queue, \u001b[38;5;124m\"\u001b[39m\u001b[38;5;124mprocesses\u001b[39m\u001b[38;5;124m\"\u001b[39m: processes}\n",
      "File \u001b[1;32mc:\\Users\\Admin\\anaconda3\\envs\\cse256pa1\\Lib\\multiprocessing\\process.py:121\u001b[0m, in \u001b[0;36mBaseProcess.start\u001b[1;34m(self)\u001b[0m\n\u001b[0;32m    118\u001b[0m \u001b[38;5;28;01massert\u001b[39;00m \u001b[38;5;129;01mnot\u001b[39;00m _current_process\u001b[38;5;241m.\u001b[39m_config\u001b[38;5;241m.\u001b[39mget(\u001b[38;5;124m'\u001b[39m\u001b[38;5;124mdaemon\u001b[39m\u001b[38;5;124m'\u001b[39m), \\\n\u001b[0;32m    119\u001b[0m        \u001b[38;5;124m'\u001b[39m\u001b[38;5;124mdaemonic processes are not allowed to have children\u001b[39m\u001b[38;5;124m'\u001b[39m\n\u001b[0;32m    120\u001b[0m _cleanup()\n\u001b[1;32m--> 121\u001b[0m \u001b[38;5;28mself\u001b[39m\u001b[38;5;241m.\u001b[39m_popen \u001b[38;5;241m=\u001b[39m \u001b[38;5;28;43mself\u001b[39;49m\u001b[38;5;241;43m.\u001b[39;49m\u001b[43m_Popen\u001b[49m\u001b[43m(\u001b[49m\u001b[38;5;28;43mself\u001b[39;49m\u001b[43m)\u001b[49m\n\u001b[0;32m    122\u001b[0m \u001b[38;5;28mself\u001b[39m\u001b[38;5;241m.\u001b[39m_sentinel \u001b[38;5;241m=\u001b[39m \u001b[38;5;28mself\u001b[39m\u001b[38;5;241m.\u001b[39m_popen\u001b[38;5;241m.\u001b[39msentinel\n\u001b[0;32m    123\u001b[0m \u001b[38;5;66;03m# Avoid a refcycle if the target function holds an indirect\u001b[39;00m\n\u001b[0;32m    124\u001b[0m \u001b[38;5;66;03m# reference to the process object (see bpo-30775)\u001b[39;00m\n",
      "File \u001b[1;32mc:\\Users\\Admin\\anaconda3\\envs\\cse256pa1\\Lib\\multiprocessing\\context.py:337\u001b[0m, in \u001b[0;36mSpawnProcess._Popen\u001b[1;34m(process_obj)\u001b[0m\n\u001b[0;32m    334\u001b[0m \u001b[38;5;129m@staticmethod\u001b[39m\n\u001b[0;32m    335\u001b[0m \u001b[38;5;28;01mdef\u001b[39;00m \u001b[38;5;21m_Popen\u001b[39m(process_obj):\n\u001b[0;32m    336\u001b[0m     \u001b[38;5;28;01mfrom\u001b[39;00m \u001b[38;5;21;01m.\u001b[39;00m\u001b[38;5;21;01mpopen_spawn_win32\u001b[39;00m \u001b[38;5;28;01mimport\u001b[39;00m Popen\n\u001b[1;32m--> 337\u001b[0m     \u001b[38;5;28;01mreturn\u001b[39;00m \u001b[43mPopen\u001b[49m\u001b[43m(\u001b[49m\u001b[43mprocess_obj\u001b[49m\u001b[43m)\u001b[49m\n",
      "File \u001b[1;32mc:\\Users\\Admin\\anaconda3\\envs\\cse256pa1\\Lib\\multiprocessing\\popen_spawn_win32.py:95\u001b[0m, in \u001b[0;36mPopen.__init__\u001b[1;34m(self, process_obj)\u001b[0m\n\u001b[0;32m     93\u001b[0m \u001b[38;5;28;01mtry\u001b[39;00m:\n\u001b[0;32m     94\u001b[0m     reduction\u001b[38;5;241m.\u001b[39mdump(prep_data, to_child)\n\u001b[1;32m---> 95\u001b[0m     \u001b[43mreduction\u001b[49m\u001b[38;5;241;43m.\u001b[39;49m\u001b[43mdump\u001b[49m\u001b[43m(\u001b[49m\u001b[43mprocess_obj\u001b[49m\u001b[43m,\u001b[49m\u001b[43m \u001b[49m\u001b[43mto_child\u001b[49m\u001b[43m)\u001b[49m\n\u001b[0;32m     96\u001b[0m \u001b[38;5;28;01mfinally\u001b[39;00m:\n\u001b[0;32m     97\u001b[0m     set_spawning_popen(\u001b[38;5;28;01mNone\u001b[39;00m)\n",
      "File \u001b[1;32mc:\\Users\\Admin\\anaconda3\\envs\\cse256pa1\\Lib\\multiprocessing\\reduction.py:60\u001b[0m, in \u001b[0;36mdump\u001b[1;34m(obj, file, protocol)\u001b[0m\n\u001b[0;32m     58\u001b[0m \u001b[38;5;28;01mdef\u001b[39;00m \u001b[38;5;21mdump\u001b[39m(obj, file, protocol\u001b[38;5;241m=\u001b[39m\u001b[38;5;28;01mNone\u001b[39;00m):\n\u001b[0;32m     59\u001b[0m \u001b[38;5;250m    \u001b[39m\u001b[38;5;124;03m'''Replacement for pickle.dump() using ForkingPickler.'''\u001b[39;00m\n\u001b[1;32m---> 60\u001b[0m     \u001b[43mForkingPickler\u001b[49m\u001b[43m(\u001b[49m\u001b[43mfile\u001b[49m\u001b[43m,\u001b[49m\u001b[43m \u001b[49m\u001b[43mprotocol\u001b[49m\u001b[43m)\u001b[49m\u001b[38;5;241;43m.\u001b[39;49m\u001b[43mdump\u001b[49m\u001b[43m(\u001b[49m\u001b[43mobj\u001b[49m\u001b[43m)\u001b[49m\n",
      "\u001b[1;31mKeyboardInterrupt\u001b[0m: "
     ]
    }
   ],
   "source": [
    "\n",
    "def load_questions_answers(qa_file):\n",
    "    \"\"\"\n",
    "    Loads the questions and corresponding ground truth document IDs.\n",
    "\n",
    "    :param qa_file: Path to the question-answer file (document ID <TAB> question <TAB> answer).\n",
    "    :return: A list of tuples [(document_id, question, answer)].\n",
    "    \"\"\"\n",
    "    qa_pairs = []\n",
    "    with open(qa_file, 'r', encoding='utf-8') as f:\n",
    "        reader = csv.reader(f, delimiter='\\t')\n",
    "        for row in reader:\n",
    "            doc_id, question, answer = row\n",
    "            qa_pairs.append((doc_id, question, answer))\n",
    "\n",
    "    random.shuffle(qa_pairs)\n",
    "\n",
    "    return qa_pairs\n",
    "\n",
    "def precision_at_k(ground_truth, retrieved_docs, k):\n",
    "    \"\"\"\n",
    "    Computes Precision at k for a single query.\n",
    "\n",
    "    :param ground_truth: The name of the ground truth document.\n",
    "    :param retrieved_docs: The list of document names returned by the model in ranked order.\n",
    "    :param k: The cutoff for computing Precision.\n",
    "    :return: Precision at k.\n",
    "    \"\"\"\n",
    "    return 1 if ground_truth in retrieved_docs[:k] else 0\n",
    "\n",
    "def evaluate(doc_file, qa_file, ranking_fuction = None, k= 5):\n",
    "    \"\"\"\n",
    "    Evaluate the retrieval system based on the documents and question-answer pairs.\n",
    "\n",
    "    :param doc_file: Path to the document file.\n",
    "    :param qa_file: Path to the question-answer file.\n",
    "    :param k: The cutoff for Precision@k.\n",
    "    \"\"\"\n",
    "    # Load the QA pairs\n",
    "    qa_pairs = load_questions_answers(qa_file)\n",
    "\n",
    "    precision_scores = []\n",
    "\n",
    "\n",
    "    for doc_id, question, _ in qa_pairs:\n",
    "\n",
    "        retrieved_docs = ranking_fuction(question)\n",
    "        precision_scores.append(precision_at_k(doc_id, retrieved_docs, k))\n",
    "\n",
    "        avg_precision_at_k = sum(precision_scores) / len(precision_scores)\n",
    "\n",
    "        if len(precision_scores) %10==0:\n",
    "            print(f\"After {len(precision_scores)} queries, Precision@{k}: {avg_precision_at_k}\")\n",
    "\n",
    "    # Compute average Precision@k\n",
    "    avg_precision_at_k = sum(precision_scores) / len(precision_scores)\n",
    "\n",
    "    print(f\"Precision@{k}: {avg_precision_at_k}\")\n",
    "\n",
    "\n",
    "qa_file = 'questions_answers.tsv'  # document ID <TAB> question <TAB> answer\n",
    "\n",
    "start_time = time.time()\n",
    "evaluate(doc_file, qa_file,rank_documents_biencoder)\n",
    "end_time = time.time()\n",
    "elapsed_time = (end_time - start_time)/60\n",
    "print(f\"Time taken: {elapsed_time} minutes\")"
   ]
  },
  {
   "cell_type": "code",
   "execution_count": null,
   "metadata": {},
   "outputs": [],
   "source": []
  }
 ],
 "metadata": {
  "accelerator": "GPU",
  "colab": {
   "gpuType": "T4",
   "provenance": []
  },
  "kernelspec": {
   "display_name": "cse256pa1",
   "language": "python",
   "name": "python3"
  },
  "language_info": {
   "codemirror_mode": {
    "name": "ipython",
    "version": 3
   },
   "file_extension": ".py",
   "mimetype": "text/x-python",
   "name": "python",
   "nbconvert_exporter": "python",
   "pygments_lexer": "ipython3",
   "version": "3.12.3"
  },
  "widgets": {
   "application/vnd.jupyter.widget-state+json": {
    "01c4b26169344756a5004ae29d7ae15e": {
     "model_module": "@jupyter-widgets/controls",
     "model_module_version": "1.5.0",
     "model_name": "DescriptionStyleModel",
     "state": {
      "_model_module": "@jupyter-widgets/controls",
      "_model_module_version": "1.5.0",
      "_model_name": "DescriptionStyleModel",
      "_view_count": null,
      "_view_module": "@jupyter-widgets/base",
      "_view_module_version": "1.2.0",
      "_view_name": "StyleView",
      "description_width": ""
     }
    },
    "01f33dd22cde4935b251fc1ccec28b06": {
     "model_module": "@jupyter-widgets/controls",
     "model_module_version": "1.5.0",
     "model_name": "HBoxModel",
     "state": {
      "_dom_classes": [],
      "_model_module": "@jupyter-widgets/controls",
      "_model_module_version": "1.5.0",
      "_model_name": "HBoxModel",
      "_view_count": null,
      "_view_module": "@jupyter-widgets/controls",
      "_view_module_version": "1.5.0",
      "_view_name": "HBoxView",
      "box_style": "",
      "children": [
       "IPY_MODEL_dbaa70ee635e4e8ebdf55c00449ba804",
       "IPY_MODEL_cdbfbc4cf6f74e7e885c147e3aa2f33c",
       "IPY_MODEL_9aa28e63d210437e87bbad2c5faea550"
      ],
      "layout": "IPY_MODEL_424c827f13d346d7a1aef2e40b3ed31d"
     }
    },
    "0e9edef7b1bc4fddac576d1d6b9080ea": {
     "model_module": "@jupyter-widgets/controls",
     "model_module_version": "1.5.0",
     "model_name": "FloatProgressModel",
     "state": {
      "_dom_classes": [],
      "_model_module": "@jupyter-widgets/controls",
      "_model_module_version": "1.5.0",
      "_model_name": "FloatProgressModel",
      "_view_count": null,
      "_view_module": "@jupyter-widgets/controls",
      "_view_module_version": "1.5.0",
      "_view_name": "ProgressView",
      "bar_style": "success",
      "description": "",
      "description_tooltip": null,
      "layout": "IPY_MODEL_878da6d48d014346bb2460d0276a1647",
      "max": 18070,
      "min": 0,
      "orientation": "horizontal",
      "style": "IPY_MODEL_b01d2f8e35ca4c0c993c70fa59dec499",
      "value": 18070
     }
    },
    "19ba855ec2404856a2cba7ad451b9021": {
     "model_module": "@jupyter-widgets/controls",
     "model_module_version": "1.5.0",
     "model_name": "HTMLModel",
     "state": {
      "_dom_classes": [],
      "_model_module": "@jupyter-widgets/controls",
      "_model_module_version": "1.5.0",
      "_model_name": "HTMLModel",
      "_view_count": null,
      "_view_module": "@jupyter-widgets/controls",
      "_view_module_version": "1.5.0",
      "_view_name": "HTMLView",
      "description": "",
      "description_tooltip": null,
      "layout": "IPY_MODEL_d4ad90e60abd40a481bf4eed0e4bdf54",
      "placeholder": "​",
      "style": "IPY_MODEL_01c4b26169344756a5004ae29d7ae15e",
      "value": " 18070/18070 [00:24&lt;00:00, 1796.24it/s]"
     }
    },
    "21da30f58191447a8a7a0daa08ace10b": {
     "model_module": "@jupyter-widgets/controls",
     "model_module_version": "1.5.0",
     "model_name": "DescriptionStyleModel",
     "state": {
      "_model_module": "@jupyter-widgets/controls",
      "_model_module_version": "1.5.0",
      "_model_name": "DescriptionStyleModel",
      "_view_count": null,
      "_view_module": "@jupyter-widgets/base",
      "_view_module_version": "1.2.0",
      "_view_name": "StyleView",
      "description_width": ""
     }
    },
    "424c827f13d346d7a1aef2e40b3ed31d": {
     "model_module": "@jupyter-widgets/base",
     "model_module_version": "1.2.0",
     "model_name": "LayoutModel",
     "state": {
      "_model_module": "@jupyter-widgets/base",
      "_model_module_version": "1.2.0",
      "_model_name": "LayoutModel",
      "_view_count": null,
      "_view_module": "@jupyter-widgets/base",
      "_view_module_version": "1.2.0",
      "_view_name": "LayoutView",
      "align_content": null,
      "align_items": null,
      "align_self": null,
      "border": null,
      "bottom": null,
      "display": null,
      "flex": null,
      "flex_flow": null,
      "grid_area": null,
      "grid_auto_columns": null,
      "grid_auto_flow": null,
      "grid_auto_rows": null,
      "grid_column": null,
      "grid_gap": null,
      "grid_row": null,
      "grid_template_areas": null,
      "grid_template_columns": null,
      "grid_template_rows": null,
      "height": null,
      "justify_content": null,
      "justify_items": null,
      "left": null,
      "margin": null,
      "max_height": null,
      "max_width": null,
      "min_height": null,
      "min_width": null,
      "object_fit": null,
      "object_position": null,
      "order": null,
      "overflow": null,
      "overflow_x": null,
      "overflow_y": null,
      "padding": null,
      "right": null,
      "top": null,
      "visibility": null,
      "width": null
     }
    },
    "5a1b783c75ab49af9e428085777d5c2b": {
     "model_module": "@jupyter-widgets/controls",
     "model_module_version": "1.5.0",
     "model_name": "DescriptionStyleModel",
     "state": {
      "_model_module": "@jupyter-widgets/controls",
      "_model_module_version": "1.5.0",
      "_model_name": "DescriptionStyleModel",
      "_view_count": null,
      "_view_module": "@jupyter-widgets/base",
      "_view_module_version": "1.2.0",
      "_view_name": "StyleView",
      "description_width": ""
     }
    },
    "66e6956c50b64d9ba8fb03e8fc38471c": {
     "model_module": "@jupyter-widgets/base",
     "model_module_version": "1.2.0",
     "model_name": "LayoutModel",
     "state": {
      "_model_module": "@jupyter-widgets/base",
      "_model_module_version": "1.2.0",
      "_model_name": "LayoutModel",
      "_view_count": null,
      "_view_module": "@jupyter-widgets/base",
      "_view_module_version": "1.2.0",
      "_view_name": "LayoutView",
      "align_content": null,
      "align_items": null,
      "align_self": null,
      "border": null,
      "bottom": null,
      "display": null,
      "flex": null,
      "flex_flow": null,
      "grid_area": null,
      "grid_auto_columns": null,
      "grid_auto_flow": null,
      "grid_auto_rows": null,
      "grid_column": null,
      "grid_gap": null,
      "grid_row": null,
      "grid_template_areas": null,
      "grid_template_columns": null,
      "grid_template_rows": null,
      "height": null,
      "justify_content": null,
      "justify_items": null,
      "left": null,
      "margin": null,
      "max_height": null,
      "max_width": null,
      "min_height": null,
      "min_width": null,
      "object_fit": null,
      "object_position": null,
      "order": null,
      "overflow": null,
      "overflow_x": null,
      "overflow_y": null,
      "padding": null,
      "right": null,
      "top": null,
      "visibility": null,
      "width": null
     }
    },
    "75768aac5c9c420e88796c9637557d7a": {
     "model_module": "@jupyter-widgets/controls",
     "model_module_version": "1.5.0",
     "model_name": "HBoxModel",
     "state": {
      "_dom_classes": [],
      "_model_module": "@jupyter-widgets/controls",
      "_model_module_version": "1.5.0",
      "_model_name": "HBoxModel",
      "_view_count": null,
      "_view_module": "@jupyter-widgets/controls",
      "_view_module_version": "1.5.0",
      "_view_name": "HBoxView",
      "box_style": "",
      "children": [
       "IPY_MODEL_9708a67aa94a4b0babd63ce89a328d11",
       "IPY_MODEL_0e9edef7b1bc4fddac576d1d6b9080ea",
       "IPY_MODEL_19ba855ec2404856a2cba7ad451b9021"
      ],
      "layout": "IPY_MODEL_7a33f51157164324a9bf871af54e2140"
     }
    },
    "7a33f51157164324a9bf871af54e2140": {
     "model_module": "@jupyter-widgets/base",
     "model_module_version": "1.2.0",
     "model_name": "LayoutModel",
     "state": {
      "_model_module": "@jupyter-widgets/base",
      "_model_module_version": "1.2.0",
      "_model_name": "LayoutModel",
      "_view_count": null,
      "_view_module": "@jupyter-widgets/base",
      "_view_module_version": "1.2.0",
      "_view_name": "LayoutView",
      "align_content": null,
      "align_items": null,
      "align_self": null,
      "border": null,
      "bottom": null,
      "display": null,
      "flex": null,
      "flex_flow": null,
      "grid_area": null,
      "grid_auto_columns": null,
      "grid_auto_flow": null,
      "grid_auto_rows": null,
      "grid_column": null,
      "grid_gap": null,
      "grid_row": null,
      "grid_template_areas": null,
      "grid_template_columns": null,
      "grid_template_rows": null,
      "height": null,
      "justify_content": null,
      "justify_items": null,
      "left": null,
      "margin": null,
      "max_height": null,
      "max_width": null,
      "min_height": null,
      "min_width": null,
      "object_fit": null,
      "object_position": null,
      "order": null,
      "overflow": null,
      "overflow_x": null,
      "overflow_y": null,
      "padding": null,
      "right": null,
      "top": null,
      "visibility": null,
      "width": null
     }
    },
    "878da6d48d014346bb2460d0276a1647": {
     "model_module": "@jupyter-widgets/base",
     "model_module_version": "1.2.0",
     "model_name": "LayoutModel",
     "state": {
      "_model_module": "@jupyter-widgets/base",
      "_model_module_version": "1.2.0",
      "_model_name": "LayoutModel",
      "_view_count": null,
      "_view_module": "@jupyter-widgets/base",
      "_view_module_version": "1.2.0",
      "_view_name": "LayoutView",
      "align_content": null,
      "align_items": null,
      "align_self": null,
      "border": null,
      "bottom": null,
      "display": null,
      "flex": null,
      "flex_flow": null,
      "grid_area": null,
      "grid_auto_columns": null,
      "grid_auto_flow": null,
      "grid_auto_rows": null,
      "grid_column": null,
      "grid_gap": null,
      "grid_row": null,
      "grid_template_areas": null,
      "grid_template_columns": null,
      "grid_template_rows": null,
      "height": null,
      "justify_content": null,
      "justify_items": null,
      "left": null,
      "margin": null,
      "max_height": null,
      "max_width": null,
      "min_height": null,
      "min_width": null,
      "object_fit": null,
      "object_position": null,
      "order": null,
      "overflow": null,
      "overflow_x": null,
      "overflow_y": null,
      "padding": null,
      "right": null,
      "top": null,
      "visibility": null,
      "width": null
     }
    },
    "885282abe8984dd589b5e8b271c70351": {
     "model_module": "@jupyter-widgets/base",
     "model_module_version": "1.2.0",
     "model_name": "LayoutModel",
     "state": {
      "_model_module": "@jupyter-widgets/base",
      "_model_module_version": "1.2.0",
      "_model_name": "LayoutModel",
      "_view_count": null,
      "_view_module": "@jupyter-widgets/base",
      "_view_module_version": "1.2.0",
      "_view_name": "LayoutView",
      "align_content": null,
      "align_items": null,
      "align_self": null,
      "border": null,
      "bottom": null,
      "display": null,
      "flex": null,
      "flex_flow": null,
      "grid_area": null,
      "grid_auto_columns": null,
      "grid_auto_flow": null,
      "grid_auto_rows": null,
      "grid_column": null,
      "grid_gap": null,
      "grid_row": null,
      "grid_template_areas": null,
      "grid_template_columns": null,
      "grid_template_rows": null,
      "height": null,
      "justify_content": null,
      "justify_items": null,
      "left": null,
      "margin": null,
      "max_height": null,
      "max_width": null,
      "min_height": null,
      "min_width": null,
      "object_fit": null,
      "object_position": null,
      "order": null,
      "overflow": null,
      "overflow_x": null,
      "overflow_y": null,
      "padding": null,
      "right": null,
      "top": null,
      "visibility": null,
      "width": null
     }
    },
    "9708a67aa94a4b0babd63ce89a328d11": {
     "model_module": "@jupyter-widgets/controls",
     "model_module_version": "1.5.0",
     "model_name": "HTMLModel",
     "state": {
      "_dom_classes": [],
      "_model_module": "@jupyter-widgets/controls",
      "_model_module_version": "1.5.0",
      "_model_name": "HTMLModel",
      "_view_count": null,
      "_view_module": "@jupyter-widgets/controls",
      "_view_module_version": "1.5.0",
      "_view_name": "HTMLView",
      "description": "",
      "description_tooltip": null,
      "layout": "IPY_MODEL_faf92c79609f41e78b82b2b6f6e9e354",
      "placeholder": "​",
      "style": "IPY_MODEL_21da30f58191447a8a7a0daa08ace10b",
      "value": "100%"
     }
    },
    "9aa28e63d210437e87bbad2c5faea550": {
     "model_module": "@jupyter-widgets/controls",
     "model_module_version": "1.5.0",
     "model_name": "HTMLModel",
     "state": {
      "_dom_classes": [],
      "_model_module": "@jupyter-widgets/controls",
      "_model_module_version": "1.5.0",
      "_model_name": "HTMLModel",
      "_view_count": null,
      "_view_module": "@jupyter-widgets/controls",
      "_view_module_version": "1.5.0",
      "_view_name": "HTMLView",
      "description": "",
      "description_tooltip": null,
      "layout": "IPY_MODEL_885282abe8984dd589b5e8b271c70351",
      "placeholder": "​",
      "style": "IPY_MODEL_c54bd6023b894bc18350e7f99cb56b3e",
      "value": " 230/230 [00:19&lt;00:00, 16.52it/s]"
     }
    },
    "aa567554981c449e9a19d2cc80a15a18": {
     "model_module": "@jupyter-widgets/base",
     "model_module_version": "1.2.0",
     "model_name": "LayoutModel",
     "state": {
      "_model_module": "@jupyter-widgets/base",
      "_model_module_version": "1.2.0",
      "_model_name": "LayoutModel",
      "_view_count": null,
      "_view_module": "@jupyter-widgets/base",
      "_view_module_version": "1.2.0",
      "_view_name": "LayoutView",
      "align_content": null,
      "align_items": null,
      "align_self": null,
      "border": null,
      "bottom": null,
      "display": null,
      "flex": null,
      "flex_flow": null,
      "grid_area": null,
      "grid_auto_columns": null,
      "grid_auto_flow": null,
      "grid_auto_rows": null,
      "grid_column": null,
      "grid_gap": null,
      "grid_row": null,
      "grid_template_areas": null,
      "grid_template_columns": null,
      "grid_template_rows": null,
      "height": null,
      "justify_content": null,
      "justify_items": null,
      "left": null,
      "margin": null,
      "max_height": null,
      "max_width": null,
      "min_height": null,
      "min_width": null,
      "object_fit": null,
      "object_position": null,
      "order": null,
      "overflow": null,
      "overflow_x": null,
      "overflow_y": null,
      "padding": null,
      "right": null,
      "top": null,
      "visibility": null,
      "width": null
     }
    },
    "b01d2f8e35ca4c0c993c70fa59dec499": {
     "model_module": "@jupyter-widgets/controls",
     "model_module_version": "1.5.0",
     "model_name": "ProgressStyleModel",
     "state": {
      "_model_module": "@jupyter-widgets/controls",
      "_model_module_version": "1.5.0",
      "_model_name": "ProgressStyleModel",
      "_view_count": null,
      "_view_module": "@jupyter-widgets/base",
      "_view_module_version": "1.2.0",
      "_view_name": "StyleView",
      "bar_color": null,
      "description_width": ""
     }
    },
    "b81068c5e79f4697b1ec9033c2472a2f": {
     "model_module": "@jupyter-widgets/controls",
     "model_module_version": "1.5.0",
     "model_name": "ProgressStyleModel",
     "state": {
      "_model_module": "@jupyter-widgets/controls",
      "_model_module_version": "1.5.0",
      "_model_name": "ProgressStyleModel",
      "_view_count": null,
      "_view_module": "@jupyter-widgets/base",
      "_view_module_version": "1.2.0",
      "_view_name": "StyleView",
      "bar_color": null,
      "description_width": ""
     }
    },
    "c54bd6023b894bc18350e7f99cb56b3e": {
     "model_module": "@jupyter-widgets/controls",
     "model_module_version": "1.5.0",
     "model_name": "DescriptionStyleModel",
     "state": {
      "_model_module": "@jupyter-widgets/controls",
      "_model_module_version": "1.5.0",
      "_model_name": "DescriptionStyleModel",
      "_view_count": null,
      "_view_module": "@jupyter-widgets/base",
      "_view_module_version": "1.2.0",
      "_view_name": "StyleView",
      "description_width": ""
     }
    },
    "cdbfbc4cf6f74e7e885c147e3aa2f33c": {
     "model_module": "@jupyter-widgets/controls",
     "model_module_version": "1.5.0",
     "model_name": "FloatProgressModel",
     "state": {
      "_dom_classes": [],
      "_model_module": "@jupyter-widgets/controls",
      "_model_module_version": "1.5.0",
      "_model_name": "FloatProgressModel",
      "_view_count": null,
      "_view_module": "@jupyter-widgets/controls",
      "_view_module_version": "1.5.0",
      "_view_name": "ProgressView",
      "bar_style": "success",
      "description": "",
      "description_tooltip": null,
      "layout": "IPY_MODEL_66e6956c50b64d9ba8fb03e8fc38471c",
      "max": 230,
      "min": 0,
      "orientation": "horizontal",
      "style": "IPY_MODEL_b81068c5e79f4697b1ec9033c2472a2f",
      "value": 230
     }
    },
    "d4ad90e60abd40a481bf4eed0e4bdf54": {
     "model_module": "@jupyter-widgets/base",
     "model_module_version": "1.2.0",
     "model_name": "LayoutModel",
     "state": {
      "_model_module": "@jupyter-widgets/base",
      "_model_module_version": "1.2.0",
      "_model_name": "LayoutModel",
      "_view_count": null,
      "_view_module": "@jupyter-widgets/base",
      "_view_module_version": "1.2.0",
      "_view_name": "LayoutView",
      "align_content": null,
      "align_items": null,
      "align_self": null,
      "border": null,
      "bottom": null,
      "display": null,
      "flex": null,
      "flex_flow": null,
      "grid_area": null,
      "grid_auto_columns": null,
      "grid_auto_flow": null,
      "grid_auto_rows": null,
      "grid_column": null,
      "grid_gap": null,
      "grid_row": null,
      "grid_template_areas": null,
      "grid_template_columns": null,
      "grid_template_rows": null,
      "height": null,
      "justify_content": null,
      "justify_items": null,
      "left": null,
      "margin": null,
      "max_height": null,
      "max_width": null,
      "min_height": null,
      "min_width": null,
      "object_fit": null,
      "object_position": null,
      "order": null,
      "overflow": null,
      "overflow_x": null,
      "overflow_y": null,
      "padding": null,
      "right": null,
      "top": null,
      "visibility": null,
      "width": null
     }
    },
    "dbaa70ee635e4e8ebdf55c00449ba804": {
     "model_module": "@jupyter-widgets/controls",
     "model_module_version": "1.5.0",
     "model_name": "HTMLModel",
     "state": {
      "_dom_classes": [],
      "_model_module": "@jupyter-widgets/controls",
      "_model_module_version": "1.5.0",
      "_model_name": "HTMLModel",
      "_view_count": null,
      "_view_module": "@jupyter-widgets/controls",
      "_view_module_version": "1.5.0",
      "_view_name": "HTMLView",
      "description": "",
      "description_tooltip": null,
      "layout": "IPY_MODEL_aa567554981c449e9a19d2cc80a15a18",
      "placeholder": "​",
      "style": "IPY_MODEL_5a1b783c75ab49af9e428085777d5c2b",
      "value": "100%"
     }
    },
    "faf92c79609f41e78b82b2b6f6e9e354": {
     "model_module": "@jupyter-widgets/base",
     "model_module_version": "1.2.0",
     "model_name": "LayoutModel",
     "state": {
      "_model_module": "@jupyter-widgets/base",
      "_model_module_version": "1.2.0",
      "_model_name": "LayoutModel",
      "_view_count": null,
      "_view_module": "@jupyter-widgets/base",
      "_view_module_version": "1.2.0",
      "_view_name": "LayoutView",
      "align_content": null,
      "align_items": null,
      "align_self": null,
      "border": null,
      "bottom": null,
      "display": null,
      "flex": null,
      "flex_flow": null,
      "grid_area": null,
      "grid_auto_columns": null,
      "grid_auto_flow": null,
      "grid_auto_rows": null,
      "grid_column": null,
      "grid_gap": null,
      "grid_row": null,
      "grid_template_areas": null,
      "grid_template_columns": null,
      "grid_template_rows": null,
      "height": null,
      "justify_content": null,
      "justify_items": null,
      "left": null,
      "margin": null,
      "max_height": null,
      "max_width": null,
      "min_height": null,
      "min_width": null,
      "object_fit": null,
      "object_position": null,
      "order": null,
      "overflow": null,
      "overflow_x": null,
      "overflow_y": null,
      "padding": null,
      "right": null,
      "top": null,
      "visibility": null,
      "width": null
     }
    }
   }
  }
 },
 "nbformat": 4,
 "nbformat_minor": 0
}
