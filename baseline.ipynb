{
 "cells": [
  {
   "cell_type": "code",
   "execution_count": 1,
   "metadata": {
    "executionInfo": {
     "elapsed": 4,
     "status": "ok",
     "timestamp": 1731284337516,
     "user": {
      "displayName": "Runpeng Jian",
      "userId": "02923340238727093107"
     },
     "user_tz": 480
    },
    "id": "pRYKFwaOumva"
   },
   "outputs": [],
   "source": [
    "from tqdm.notebook import tqdm\n",
    "import pandas as pd\n",
    "import os\n",
    "import csv\n",
    "import sys\n",
    "import numpy as np\n",
    "import time\n",
    "import random\n",
    "from typing import Optional, List, Tuple\n",
    "import matplotlib.pyplot as plt\n",
    "import textwrap\n",
    "import torch\n",
    "\n",
    "seed = 42\n",
    "random.seed(seed)\n",
    "np.random.seed(seed)\n",
    "torch.manual_seed(seed)\n",
    "torch.cuda.manual_seed_all(seed)\n",
    "torch.backends.cudnn.deterministic = True\n",
    "torch.backends.cudnn.benchmark = False\n",
    "\n",
    "# Disable huffingface tokenizers parallelism <- should huggingface\n",
    "os.environ[\"TOKENIZERS_PARALLELISM\"] = \"false\"\n"
   ]
  },
  {
   "cell_type": "markdown",
   "metadata": {
    "id": "b6gIgmDTumvb"
   },
   "source": [
    "# Load the meetings dataset"
   ]
  },
  {
   "cell_type": "code",
   "execution_count": 2,
   "metadata": {
    "colab": {
     "base_uri": "https://localhost:8080/"
    },
    "executionInfo": {
     "elapsed": 4,
     "status": "ok",
     "timestamp": 1731284337516,
     "user": {
      "displayName": "Runpeng Jian",
      "userId": "02923340238727093107"
     },
     "user_tz": 480
    },
    "id": "OL_vP4Goumvb",
    "outputId": "352887ad-ad55-44c5-bc7b-cdef34bcbe28"
   },
   "outputs": [
    {
     "name": "stdout",
     "output_type": "stream",
     "text": [
      "Total meetings (docs): 230\n"
     ]
    }
   ],
   "source": [
    "from langchain.docstore.document import Document\n",
    "import csv\n",
    "import sys\n",
    "\n",
    "def set_csv_field_limit():\n",
    "    maxInt = sys.maxsize\n",
    "    while True:\n",
    "        try:\n",
    "            csv.field_size_limit(maxInt)\n",
    "            break\n",
    "        except OverflowError:\n",
    "            maxInt = int(maxInt/10)\n",
    "    return maxInt\n",
    "\n",
    "def load_documents(doc_file):\n",
    "    \"\"\"\n",
    "    Loads the document contents from the first file.\n",
    "\n",
    "    :param doc_file: Path to the document file (document ID <TAB> document contents).\n",
    "    :return: A dictionary {document_id: document_contents}.\n",
    "    \"\"\"\n",
    "    # Set the field size limit first\n",
    "    set_csv_field_limit()\n",
    "\n",
    "    documents = {}\n",
    "    with open(doc_file, 'r', encoding='utf-8') as f:\n",
    "        reader = csv.reader(f, delimiter='\\t')\n",
    "        for row in reader:\n",
    "            if len(row)==0: continue\n",
    "            doc_id, content = row\n",
    "            documents[doc_id] = content\n",
    "    return documents\n",
    "\n",
    "# Load and process the documents\n",
    "docs = []\n",
    "doc_file = 'meetings.tsv'\n",
    "documents = load_documents(doc_file)\n",
    "\n",
    "for doc_id in documents:\n",
    "    doc = Document(page_content=documents[doc_id])\n",
    "    metadata = {'source': doc_id}\n",
    "    doc.metadata = metadata\n",
    "    docs.append(doc)\n",
    "\n",
    "print(f\"Total meetings (docs): {len(documents)}\")"
   ]
  },
  {
   "cell_type": "code",
   "execution_count": 3,
   "metadata": {},
   "outputs": [
    {
     "data": {
      "text/plain": [
       "\"project manager: yep . soon as i get this . okay . this is our last meeting . um i 'll go ahead and go through the minutes from the previous meeting . uh and then we 'll have a , the prototype presentation . um then we will um do an evaluation . uh or we 'll see what , what we need to have under the criteria for the evaluation . then we 'll go through the finance and see if we fall within the budget . um then we 'll do the evaluation , and then we can finish up after that with um any changes that we 'll need to make , or hopefully everything will fall right in line . um let 's see , minutes from the last meeting . um we looked at uh the the trends . we had uh the fashion trends that people want a fancy look-and-feel . it was twice as important as anything else . um they liked fruit and vegetables in the new styles . um and a spongy feel . so we were talking about trying to incorporate those into our prototype . um they wanted limited buttons and simplicity . um then we looked at the uh the method for coming up with our own remote . um looking at other other devices . um the ipod , we really liked the look of that . um we also had uh the kid 's remote for a simple idea . um a two part remote , which was what were were originally looking at . uh and then um there was talk of spee uh speech recognition um becoming more uh predominant and easier to use . but i think we 've still decided not to go with that . then we looked at the components um the materials for the case , the different energy sources , the different types of chips , um and made a decision on what we were going to use to make our remote . um and basically how , what were making for the prototype . so i 'm going to leave it at that and let you guys take over . user interface: the prototype discussion . project manager: the prototype yeah . do you need a this ? user interface: no . project manager: okay . industrial designer: can try to plug that in there user interface: there is our remo the banana . marketing: industrial designer: but user interface: um yeah basically we we st went with the colour yellow . um working on the principle of a fruit which was mentioned , it 's basically designed around a banana . project manager: user interface: um but it would be held in such a fashion , marketing: user interface: where it is , obviously it would n't be that floppy 'cause this would be hard plastic . these would be like the rubber , the rubber grips . so that 's so that would hopefully help with grip , or like the ergonomics of it . um but all the controlling would be done with this scroll wheel . you have to use your imagination a little bit . and this here represents the screen , where you , where you 'd go through . project manager: very nice . user interface: and the the simplest functions would be um almost identical to an ipod , where that one way ch through channels , that way th other way through channels . volume up and down . and then to access the more complicated functions you 'd you sorta go , you press that and go through the menus . it 's that that simple . that just represents the infrared uh beam . that 's a simple on and off switch . um i do n't know , we could use the voice . t that blue bits should be yellow , that that 'd be where the batteries would be i suppose . and um that 's about it . it 's as simple as you , we could make it really . industrial designer: right . user interface: is there anything you want to add ? industrial designer: that 's what we have there . that 's plastic . plastic covered with rubber . we might uh add some more underneath here . maybe give it , give it a form . i mean you 're supposed to hold it like that , but um just if you grab it , take it from somewhere , user interface: yeah . project manager: mm-hmm . industrial designer: so yeah , user interface: does n't make much make much difference . industrial designer: you have some rub yeah . user interface: you could work left-handed or right-handed i suppose . industrial designer: exactly , use both . might as well think about user interface: t the actual thing might be smaller . industrial designer: th think about the button as well . like either put either one one on either side or user interface: yeah . project manager: what but what 's that button ? industrial designer: not do it at all . it 's a quick on-off button . user interface: just the on and off . project manager: uh , 'kay . industrial designer: that 's um marketing: industrial designer: yeah i think it 's pretty important . so you do n't have to fiddle with that . project manager: 'kay . industrial designer: right ? um that 's not um project manager: industrial designer: i 'd say a bit smaller would probably be nice . you wan na play with that over there . user interface: yeah . industrial designer: there you go . user interface: it 's you know it 's flimsy 'cause it 's made out of heavy play-doh , marketing: project manager: would you like to uh industrial designer: right . user interface: but marketing: pretty impressive . project manager: well done . user interface: marketing: kind of a banana . user interface: and whether or not it would fall into the cost everything i suppose . with the scroll and the lcd . project manager: well luckily we are going to find out . or not luckily . um do you have a marketing presentation for us . industrial designer: marketing: i do . okay . you guys are gon na help me do an evaluation of the criteria . um . okay . so first i 'll just discuss some of the criteria that i found . just based on the past trend reports that i was looking at earlier . and then we 'll do a group evaluation of the prototype . and then we will calculate the average score to see how we did . um so the criteria we 're gon na be looking at are the complaints um that we heard from the users who were interviewed earlier . so we 're gon na be doing it based on a seven point scale . and one is going to mean true , that we did actually achieve that . with seven being false , we did not achieve that . . okay . so for the first one , we need to decide , did we solved the problem of the users who complained about an ugly remote ? industrial designer: . user interface: project manager: i think it 's definitely different than anything else out there . user interface: marketing: mm . user interface: yeah . project manager: so if they think that what is out there is ugly , then yes i would say , i would say most definitely . marketing: user interface: i would . project manager: it 's bright . user interface: it 's bright . it 's project manager: it still has your traditional black . user interface: it 's curved . it 's not there 's no sharp industrial designer: user interface: angles to it . project manager: yep , not angular . marketing: mm . industrial designer: i 'd say , when it comes to the ergonomics , the form and stuff , yes that 's definitely more beautiful than your average . marketing: industrial designer: however the colour , we do n't have a say in that . marketing: yeah i think the colours detract a little bit . user interface: some people might say it . yeah . industrial designer: that has been , that has been dictated pretty much by the company . project manager: mm . industrial designer: so uh to answer that honestly i would rather say like uh , we have not solved the problem completely with the ugly remote because the colour is ugly , definitely . project manager: yep . marketing: that 's true . yeah . project manager: user interface: yeah . industrial designer: 's nothing you can say about that . i mean i much prefer something like brushed chrome with that form . user interface: yeah . industrial designer: but project manager: yeah something more modern to go a a modern colour to go with the modern form . industrial designer: right . right . it 's different . you do n't want your uh three feet huge lcd dis display in your living room that 's hanging from the wall to be controlled with something like that . marketing: um okay so , do you think , since we this was a a sign criteria , do you think maybe we should put it somewhere in the middle then ? industrial designer: yeah . marketing: does that sound good ? project manager: yeah . user interface: yeah . industrial designer: marketing: what do you think ? three ? four ? project manager: i would say marketing: five ? project manager: four . industrial designer: yeah . marketing: four is fair . okay . project manager: very non-committal , four . marketing: okay , the second one . did we make it simple for new users ? industrial designer: it 's very intuitive , i think yeah . user interface: yeah . i think that was the main aim , one of the main aims that we had . industrial designer: s give it a one . marketing: one , project manager: yeah . marketing: 'kay . okay . um , do the controls now match the operating behaviour of the users ? user interface: uh yeah . 'cause we 've we 've brought it down to basically four controls most common , which are channel and volume . marketing: i 'd say that project manager: mm-hmm . industrial designer: right . user interface: and then the other ones are just a matter of just going , just scrolling further . project manager: s scrolling through and selecting a few . industrial designer: right . so that 's a one . marketing: so one ? project manager: i think that 's a one . marketing: yeah ? okay . okay um the fourth one . how about the problem of a remote being easily lost ? one of the number one complaints . industrial designer: something that big and that yellow you just do n't lose anymore . project manager: user interface: yeah . marketing: whether you want to or not , you 're not gon na lose it . user interface: it 's bright yellow . industrial designer: user interface: bright yellow 's hard to lose . but um if we were to , if we were , that , the speech recognition . that , we could maybe just use that solely for the the finding thing . that was what we 'd we 'd mentioned . project manager: so if we incorporate speech recognition into it then it could user interface: just just to use , to find it when it was lost . but like i said , like i do n't think you 'd lose something so yellow so easily . industrial designer: oops . hmm . user interface: and it 's not gon na fall , like a rectangle would slip down behind things . that 's gon na be a difficult shape to industrial designer: well what project manager: and it is quite bright and user interface: yeah . marketing: user interface: maybe in the middle again , three or four or something ? project manager: uh industrial designer: s marketing: okay . user interface: i mean you know loo losing things is one of those things that people can lose , i mean a million ways . project manager: yeah . user interface: you can pick it up and walk away with it and then you 've lost it . industrial designer: mm . marketing: that 's true . project manager: but if we do go with the , with the speech recognition , then it , then our scale goes up quite a bit i think . marketing: mm . industrial designer: oh yeah . you probably user interface: yeah . project manager: probably two . you know . if we eliminate the fact that you know it 's impossible to guarantee that it 's not gon na be lost then user interface: yeah . industrial designer: mm . project manager: i 'd say two . industrial designer: marketing: project manager: with the speech recognition , which of course may be changed depending on budget . user interface: yeah . industrial designer: y you could add an extra feature actually . which makes this thing raise hell when you remove it too far from the television . user interface: yeah . industrial designer: we could add that but that 's nothing we have thought of so far . project manager: which , which may be cheaper than speech recognition if it were just a industrial designer: yes . user interface: yeah true . but i mean d just those whistling , clapping key rings you have . they 're cheap . marketing: annoying alarm or something ? project manager: industrial designer: it 's it 's marketing: yeah . user interface: so it ca n't be that industrial designer: um the it 's based on this anti anti-theft technology for suitcases and stuff , user interface: expensive . project manager: some sort of proximity user interface: yeah . industrial designer: where you have one piece that 's attached to your luggage , another piece that starts beeping . that ca n't cost much . user interface: yeah . industrial designer: so that can also easily be integrated because these things are small enough to to hide , so you have one piece , you have to glue somewhere behind your stick it behind your tv and the other user interface: stick it on the tv . project manager: pray that you do n't accidentally lose that piece . industrial designer: right . user interface: marketing: industrial designer: that 'd be tough then . well also your remote would uh alarm you if somebody stole you t your television , yeah . ran off with it without taking the beautiful remote control . project manager: user interface: yeah . marketing: so . are we adding one of these two features ? industrial designer: let 's add one of those features and say yes . marketing: gon na say okay . project manager: okay . marketing: so we 're back to a one ? user interface: two . marketing: or a two ? project manager: two . industrial designer: two . marketing: two , 'kay . okay . are we technologically innovative ? industrial designer: uh user interface: i 'd say so . industrial designer: user interface: uh do n't get many mo remote controls with industrial designer: it 's all just user interface: screens on . industrial designer: it 's all just stolen technology when it comes down to user interface: yeah it 's stolen technology . marketing: from ipod yeah . project manager: it 's user interface: but we have . project manager: but there 's not a lot of yellow , there 's not a lotta yellow . industrial designer: right marketing: but for remotes yeah . project manager: course that was n't really industrial designer: right user interface: fa industrial designer: right right . project manager: we were kinda forced to take that colour . marketing: two ? three ? user interface: 'cause it 's stolen . project manager: i do n't know that we are that innovative , to tell you the truth . user interface: no maybe not . industrial designer: yeah not really . marketing: but how many remotes do you see like this ? user interface: project manager: if we added the screaming factor then we go up . industrial designer: marketing: not so many . industrial designer: user interface: marketing: project manager: um i would say we 're probably at four . industrial designer: right . marketing: really ? okay . that 's gon na hurt us . user interface: marketing: okay . um spongy material ? industrial designer: yeah well you have that , kind of , sort of . project manager: we have some spongy , yeah . user interface: yeah as much as as needed , i think . marketing: 'kay . industrial designer: it 's not a one though . project manager: no . industrial designer: one would be the whole thing project manager: yeah . because it 's only got what , these parts are the grips and perhaps the back side the bottom the underneath on the back . industrial designer: to fold and stuff . yeah . user interface: yeah . industrial designer: so that 's a four at most . project manager: probably a four at most . possibly even a five . marketing: and lastly , did we put the fashion in electronics ? project manager: industrial designer: y yes . user interface: yeah . marketing: i 'd say we did . project manager: if your fashion is b is carmen miranda , you betcha . industrial designer: more user interface: yeah . marketing: industrial designer: well the recent fashion is rather displayed in the in the lcd and the way you operate it than the form and the colour , user interface: on the project manager: it 's true . user interface: yeah . industrial designer: but it definitely is user interface: be what we were told , and they 'd say yeah , definitely . industrial designer: . marketing: 'kay . alright . now we just got ta calculate . six eight twelve sixteen . seventeen divided by s user interface: . project manager: seven is marketing: eight . project manager: two point marketing: project manager: two point four ? user interface: is that some long division ? no . project manager: something . marketing: well i have n't done math in years . industrial designer: marketing: what two user interface: marketing: i dunno . user interface: just , i 'm sure there 's a . marketing: okay we 'll say two point four two . right ? how does that look ? industrial designer: i 'm impressed . i ca n't do that without a calculator . user interface: no i ca n't do long marketing: it 's been a while . user interface: very impressive . project manager: and what what is the acceptable criteria ? is there like a scale that we have to hit ? marketing: oh no . they just told me to industrial designer: marketing: pick my own criteria and have you guys evaluate it basically . project manager: alright then . marketing: so that 's that . project manager: okay . well , let 's see . marketing: project manager: now we get to do the budget numbers . you did n't know that you were gon na have a budget . but we do . okay . user interface: yeah . yeah so . you 'd been going a long time dividing that . it 's two point four two eight five se it just keeps going on . marketing: oh my god . user interface: two point four two basically . marketing: okay . yeah we 'll go with that . project manager: so i have here an industrial designer: fifty percent , you 're kidding . marketing: not too shabby . project manager: yeah . industrial designer: p project manager: we want a fifty percent profit on this . oh you ca n't really see that very well . user interface: charge about three hundred quid for it . project manager: twelve and a half euros is what supposed to cost us . okay , so industrial designer: it 's too much . project manager: well let 's see . industrial designer: um project manager: the f the wonder if i can make this industrial designer: uh project manager: what the oh it wo n't let me do that . okay . alright so at top , i do n't know if you guys can read that or not . i ca n't 'cause i do n't have my glasses on , industrial designer: project manager: but so we 've got the energy source . there 's uh four , five , six categories . industrial designer: battery . project manager: we have energy source , electronics , case . then we have case material supplements , interface type , and then button supplements . okay so uh first of all energy source , we picked battery . um and how many batteries do we think this will probably take ? user interface: project manager: probably some e either two or four . industrial designer: two . project manager: two ? like it . industrial designer: at four it 's gon na be too heavy , so that that 's not our problem . people can change it every month . project manager: excellent . industrial designer: they wo n't know until after they bought it . user interface: marketing: project manager: this is consumerism . industrial designer: project manager: alright so for the electronics our choices are simpl simple chip-on-print , regular chip-on-print , advanced chip-on-print , sample sensor , sample speaker . industrial designer: . user interface: we 're advanced chip are we ? industrial designer: that 's the advanced chip-on-print , yeah . project manager: 'kay , we have one of those . 'kay then the case is a probably it 's double curved . industrial designer: double curved , yes . project manager: case materials are industrial designer: plastic . project manager: plastic . um i guess it 's two , since one for the top , one for the bottom . industrial designer: n no . project manager: is that right or is it just one ? industrial designer: no that 's just one . project manager: maybe it 's one because of the industrial designer: it 's just one mo single mould , we can do that . project manager: 'kay . user interface: yeah yeah . marketing: right . project manager: i guess it does n't matter 'cause the price on that one is zero , which is nice . industrial designer: exactly , right . marketing: oh . project manager: special colour ? industrial designer: that 's not a special colour . it 's a specially ugly colour , but it 's not special . marketing: bright yellow . project manager: interface type . we have pushbutton , scroll-wheel interface , integrated scroll-wheel pushbutton , and an lcd display . user interface: marketing: user interface: s industrial designer: s user interface: that 's yeah . project manager: so we actually have the lcd display marketing: user interface: and then project manager: and then is it the integrated or is it user interface: i 'd say the integrated . project manager: yeah . industrial designer: yes unfortunately . project manager: 'kay . button supplement ? special colour ? user interface: mm . project manager: um special form ? special material . industrial designer: we could of course make the buttons wood . project manager: user interface: marketing: industrial designer: say mahogany or so marketing: it 'd look really lovely . project manager: or titanium . industrial designer: mm-hmm or titanium . project manager: they cost us all the same . marketing: yeah . user interface: remote control . project manager: well we only have one button so really we should n't be charged , industrial designer: uh just marketing: industrial designer: project manager: we should n't be charged anything for the the button supplements . user interface: no that 's getting a bit tiny . project manager: um user interface: yeah . marketing: user interface: i 'd ignore that . marketing: leave it blank . project manager: okay . we 're gon na leave that one blank because we run on a lcd and scroll . so our total is fifteen point five . which i believe is industrial designer: yeah that 's too much . project manager: by three euros over . industrial designer: it 's hard to believe . so we 'll go for the hand dynamo huh ? project manager: user interface: marketing: project manager: so the only thing better than um a banana-shaped remote is one that you shake . user interface: if it w what if we completely took out the the one single button we 've got on . marketing: industrial designer: user interface: and just had a scroll wheel interface . and the lcd display . i suppose the lcd c_ display 's the one that 's pushing it up a bit though . project manager: yeah 'cause the marketing: project manager: well 'cause we have to have both right ? user interface: yeah . industrial designer: i mean let 's let 's face it , it also depends on the software on the on the television . user interface: yeah . industrial designer: you can have the the information that this thing transmits be being displayed on the on the screen . project manager: mm-hmm . industrial designer: so s yeah let 's take away the user interface: yeah you could maybe take out the lcd dis display even , industrial designer: yeah . yeah . user interface: if it if it comes up on the computer itsel on the tv itself . industrial designer: right . project manager: so we may not need the lcd display ? user interface: uh that is possible yeah . industrial designer: right . we may not need it . there you go . project manager: well there we go . industrial designer: perfect . project manager: twelve point five . user interface: there we go . marketing: perfect . project manager: okay . so we just remove our marketing: industrial designer: user interface: screen . marketing: project manager: screen here . user interface: make it a bigger dial . industrial designer: user interface: easier to use . even easier to use then . project manager: industrial designer: okay , the user interface: marketing: project manager: besides look at what the lcd does to our lovely remote . user interface: marketing: project manager: back to the design room boys . industrial designer: so we can just take away a heck of a lot of the marketing: user interface: marketing: . industrial designer: there you go . central ? marketing: what 's the blue part ? user interface: that was just industrial designer: oh that 's just user interface: we ran out of yellow . marketing: oh that 's the batteries . industrial designer: yeah . marketing: okay . industrial designer: there you go user interface: there you go . industrial designer: . oops . user interface: even simpler . marketing: looks more like a banana . user interface: yeah . industrial designer: there you go . user interface: for all those fruit lovers out there . industrial designer: one more criteria . project manager: marketing: project manager: okay so the costs under twelve point five euro . was no . we redesigned it . now it 's yes . user interface: yeah . marketing: project manager: next slide . project evaluation . uh project process , satisfaction with , for example , room for creativity , leadership , teamwork , means , new ideas found . um so i guess that let 's see here . i think that perhaps the project evaluation 's just supposed to be completed by me . but i 'd like to hear your thoughts . marketing: project manager: industrial designer: fair enough . user interface: marketing: trying to fill in some time there . project manager: uh h what did you think of our project process ? industrial designer: great . user interface: i think we did yeah i think we did quite well . um industrial designer: yeah . project manager: good . marketing: good teamwork . industrial designer: just half a day , you have a remote . there you go . user interface: yeah . right from the start of the day . project manager: yeah i think user interface: we sort of knew where we were going straight away i thought . project manager: we st we started off a little little weak . our leadership was quite weak in the beginning . marketing: project manager: um um marketing: project manager: but as the day went along we had more idea of what we were doing . um room for creativity ? there was that . um i think we tried a lotta different things and um i think it was um interesting as you guys brought up more um information and studies that we were right on with a lot of those things . um you guys worked together well as a team . and um the means ? which was the whiteboard and the pens . user interface: yeah . we 've used the whiteboard . industrial designer: super super . project manager: i had some problem with the pen i think , but minus your p marketing: minus your powerpoint fiasco . industrial designer: well that 's not my fault . that 's obviously the people i work for uh that work for me , marketing: no i know . i 'm project manager: well marketing: yeah . incom industrial designer: uh they 've just you know user interface: project manager: have a industrial designer: heads are gon na roll , believe me . project manager: we have a list of employees that you would like fired . user interface: marketing: user interface: industrial designer: yes yes . project manager: okay . n new ideas found ? um industrial designer: marketing: mm . kinda . project manager: yes for the remote . maybe no not f for user interface: technology used . project manager: technology . alright . closing . costs are within the budget . project is evaluated . um complete the final questionnaire and meeting summary . that 's it . user interface: excellent . project manager: and i still have to do my minutes for the last meeting . marketing: project manager: actually . um so there will probably be another questionnaire coming up . and then we 'll have to check with the main boss whether we can , what goes on after that . marketing: we might have a while though . industrial designer: . project manager: but that 's the end of our meeting .\""
      ]
     },
     "execution_count": 3,
     "metadata": {},
     "output_type": "execute_result"
    }
   ],
   "source": [
    "documents['doc_0']"
   ]
  },
  {
   "cell_type": "markdown",
   "metadata": {
    "id": "tfFRAwGPumvd"
   },
   "source": [
    "# Retriever - Building the retriever 🗂️"
   ]
  },
  {
   "cell_type": "markdown",
   "metadata": {
    "id": "9m7pdV-Xumvd"
   },
   "source": [
    " ### 1. Specify an Embedding Model and Visualize Document Lengths\n"
   ]
  },
  {
   "cell_type": "code",
   "execution_count": 4,
   "metadata": {
    "colab": {
     "base_uri": "https://localhost:8080/",
     "height": 501,
     "referenced_widgets": [
      "01f33dd22cde4935b251fc1ccec28b06",
      "dbaa70ee635e4e8ebdf55c00449ba804",
      "cdbfbc4cf6f74e7e885c147e3aa2f33c",
      "9aa28e63d210437e87bbad2c5faea550",
      "424c827f13d346d7a1aef2e40b3ed31d",
      "aa567554981c449e9a19d2cc80a15a18",
      "5a1b783c75ab49af9e428085777d5c2b",
      "66e6956c50b64d9ba8fb03e8fc38471c",
      "b81068c5e79f4697b1ec9033c2472a2f",
      "885282abe8984dd589b5e8b271c70351",
      "c54bd6023b894bc18350e7f99cb56b3e"
     ]
    },
    "executionInfo": {
     "elapsed": 23646,
     "status": "ok",
     "timestamp": 1731284361159,
     "user": {
      "displayName": "Runpeng Jian",
      "userId": "02923340238727093107"
     },
     "user_tz": 480
    },
    "id": "s0fGIq3zumvd",
    "outputId": "8d49ed64-8250-4e2c-e20e-123259911edd"
   },
   "outputs": [
    {
     "name": "stdout",
     "output_type": "stream",
     "text": [
      "Model's maximum sequence length: 512\n"
     ]
    },
    {
     "data": {
      "application/vnd.jupyter.widget-view+json": {
       "model_id": "213ce39413cf4373938496aaa9fb03a1",
       "version_major": 2,
       "version_minor": 0
      },
      "text/plain": [
       "  0%|          | 0/230 [00:00<?, ?it/s]"
      ]
     },
     "metadata": {},
     "output_type": "display_data"
    }
   ],
   "source": [
    "EMBEDDING_MODEL_NAME = \"thenlper/gte-small\"\n",
    "\n",
    "from sentence_transformers import SentenceTransformer\n",
    "\n",
    "print(\n",
    "    f\"Model's maximum sequence length: {SentenceTransformer(EMBEDDING_MODEL_NAME).max_seq_length}\"\n",
    ")\n",
    "\n",
    "from transformers import AutoTokenizer\n",
    "\n",
    "tokenizer = AutoTokenizer.from_pretrained(EMBEDDING_MODEL_NAME)\n",
    "lengths = [len(tokenizer.encode(doc.page_content)) for doc in tqdm(docs)]"
   ]
  },
  {
   "cell_type": "code",
   "execution_count": 5,
   "metadata": {
    "colab": {
     "base_uri": "https://localhost:8080/",
     "height": 501,
     "referenced_widgets": [
      "75768aac5c9c420e88796c9637557d7a",
      "9708a67aa94a4b0babd63ce89a328d11",
      "0e9edef7b1bc4fddac576d1d6b9080ea",
      "19ba855ec2404856a2cba7ad451b9021",
      "7a33f51157164324a9bf871af54e2140",
      "faf92c79609f41e78b82b2b6f6e9e354",
      "21da30f58191447a8a7a0daa08ace10b",
      "878da6d48d014346bb2460d0276a1647",
      "b01d2f8e35ca4c0c993c70fa59dec499",
      "d4ad90e60abd40a481bf4eed0e4bdf54",
      "01c4b26169344756a5004ae29d7ae15e"
     ]
    },
    "executionInfo": {
     "elapsed": 32792,
     "status": "ok",
     "timestamp": 1731284393949,
     "user": {
      "displayName": "Runpeng Jian",
      "userId": "02923340238727093107"
     },
     "user_tz": 480
    },
    "id": "4Ur0Kzz8M5Sj",
    "outputId": "1153b109-efbe-4c82-8950-efbda4b59342"
   },
   "outputs": [
    {
     "name": "stdout",
     "output_type": "stream",
     "text": [
      "Total 18070 snippets to be stored in our vector store.\n"
     ]
    },
    {
     "data": {
      "application/vnd.jupyter.widget-view+json": {
       "model_id": "8b0c3b4eb3ab4e718184713b6cec4bfc",
       "version_major": 2,
       "version_minor": 0
      },
      "text/plain": [
       "  0%|          | 0/18070 [00:00<?, ?it/s]"
      ]
     },
     "metadata": {},
     "output_type": "display_data"
    }
   ],
   "source": [
    "from langchain.text_splitter import RecursiveCharacterTextSplitter\n",
    "\n",
    "text_splitter = RecursiveCharacterTextSplitter(\n",
    "    chunk_size = 768,\n",
    "    chunk_overlap = 128,\n",
    ")\n",
    "\n",
    "doc_snippets = text_splitter.split_documents(docs)\n",
    "print(f\"Total {len(doc_snippets)} snippets to be stored in our vector store.\")\n",
    "\n",
    "lengths = [len(tokenizer.encode(doc.page_content)) for doc in tqdm(doc_snippets)]"
   ]
  },
  {
   "cell_type": "markdown",
   "metadata": {
    "id": "qd8GpdZkumve"
   },
   "source": [
    "### 3. Build the Vector Database\n",
    "\n",
    "To enable retrieval, we need to compute embeddings for all chunks in our knowledge base. These embeddings will then be stored in a vector database.\n",
    "\n",
    "#### How Retrieval Works\n",
    "\n",
    "A query is embedded using an embedding model and a similarity search finds the closest matching chunks in the vector database.\n",
    "\n",
    "The following cell builds the vector database consisting of  all chunks in our knowledge base.\n"
   ]
  },
  {
   "cell_type": "code",
   "execution_count": 6,
   "metadata": {
    "colab": {
     "base_uri": "https://localhost:8080/"
    },
    "executionInfo": {
     "elapsed": 93095,
     "status": "ok",
     "timestamp": 1731284487042,
     "user": {
      "displayName": "Runpeng Jian",
      "userId": "02923340238727093107"
     },
     "user_tz": 480
    },
    "id": "1GUhbaE-umve",
    "outputId": "568f0c39-f161-42bc-8bd4-4eae3b6c771e"
   },
   "outputs": [
    {
     "name": "stdout",
     "output_type": "stream",
     "text": [
      "Found device: cuda\n",
      "Time taken: 0.33181405464808145 minutes\n"
     ]
    }
   ],
   "source": [
    "from langchain_huggingface import HuggingFaceEmbeddings\n",
    "from langchain.vectorstores import FAISS\n",
    "from langchain_community.vectorstores.utils import DistanceStrategy\n",
    "\n",
    "# Automatically set the device to 'cuda' if available, otherwise use 'cpu'\n",
    "device = \"cuda\" if torch.cuda.is_available() else \"cpu\"\n",
    "print(f\"Found device: {device}\")\n",
    "\n",
    "\n",
    "embedding_model = HuggingFaceEmbeddings(\n",
    "    model_name=EMBEDDING_MODEL_NAME,\n",
    "    multi_process=True,\n",
    "    model_kwargs={\"device\": device},\n",
    "    encode_kwargs={\"normalize_embeddings\": True},  # Set `True` for cosine similarity\n",
    ")\n",
    "\n",
    "start_time = time.time()\n",
    "\n",
    "KNOWLEDGE_VECTOR_DATABASE = FAISS.from_documents(\n",
    "    doc_snippets, embedding_model, distance_strategy=DistanceStrategy.COSINE\n",
    ")\n",
    "\n",
    "end_time = time.time()\n",
    "\n",
    "elapsed_time = (end_time - start_time)/60\n",
    "print(f\"Time taken: {elapsed_time} minutes\")\n"
   ]
  },
  {
   "cell_type": "code",
   "execution_count": 7,
   "metadata": {
    "colab": {
     "base_uri": "https://localhost:8080/"
    },
    "executionInfo": {
     "elapsed": 9993,
     "status": "ok",
     "timestamp": 1731284497034,
     "user": {
      "displayName": "Runpeng Jian",
      "userId": "02923340238727093107"
     },
     "user_tz": 480
    },
    "id": "LgqBmHxBoZRM",
    "outputId": "e5c04b9a-c162-47c2-9b3b-764caae26312"
   },
   "outputs": [
    {
     "name": "stdout",
     "output_type": "stream",
     "text": [
      "\n",
      "==================================Top-5 documents==================================\n",
      "\n",
      "\n",
      "Retrieved documents: ['doc_211', 'doc_2', 'doc_43', 'doc_160', 'doc_43']\n",
      "\n",
      "====================================================================\n",
      "\n"
     ]
    }
   ],
   "source": [
    "## The function for ranking documents given a query:\n",
    "def rank_documents_biencoder(user_query, top_k = 5):\n",
    "    \"\"\"\n",
    "    Function for document ranking based on the query.\n",
    "\n",
    "    :param query: The query to retrieve documents for.\n",
    "    :return: A list of document IDs ranked based on the query (mocked).\n",
    "    \"\"\"\n",
    "    retrieved_docs = KNOWLEDGE_VECTOR_DATABASE.similarity_search(query=user_query, k=top_k)\n",
    "    ranked_list = []\n",
    "    for i, doc in enumerate(retrieved_docs):\n",
    "        ranked_list.append(retrieved_docs[i].metadata['source'])\n",
    "\n",
    "    return ranked_list  # ranked document IDs.\n",
    "\n",
    "\n",
    "user_query = \"what did kirsty williams am say about her plan for quality assurance ?\"\n",
    "retrieved_docs = rank_documents_biencoder(user_query)\n",
    "\n",
    "print(\"\\n==================================Top-5 documents==================================\")\n",
    "print(\"\\n\\nRetrieved documents:\", retrieved_docs)\n",
    "print(\"\\n====================================================================\\n\")"
   ]
  },
  {
   "cell_type": "markdown",
   "metadata": {},
   "source": [
    "### Bi-Encoder Evaluation Pipeline"
   ]
  },
  {
   "cell_type": "code",
   "execution_count": 8,
   "metadata": {
    "executionInfo": {
     "elapsed": 2,
     "status": "ok",
     "timestamp": 1731284512033,
     "user": {
      "displayName": "Runpeng Jian",
      "userId": "02923340238727093107"
     },
     "user_tz": 480
    },
    "id": "f0pjYhz1umvj"
   },
   "outputs": [],
   "source": [
    "\n",
    "def load_questions_answers(qa_file):\n",
    "    \"\"\"\n",
    "    Loads the questions and corresponding ground truth document IDs.\n",
    "\n",
    "    :param qa_file: Path to the question-answer file (document ID <TAB> question <TAB> answer).\n",
    "    :return: A list of tuples [(document_id, question, answer)].\n",
    "    \"\"\"\n",
    "    qa_pairs = []\n",
    "    with open(qa_file, 'r', encoding='utf-8') as f:\n",
    "        reader = csv.reader(f, delimiter='\\t')\n",
    "        for row in reader:\n",
    "            doc_id, question, answer = row\n",
    "            qa_pairs.append((doc_id, question, answer))\n",
    "\n",
    "    random.shuffle(qa_pairs)\n",
    "\n",
    "    return qa_pairs\n",
    "\n",
    "def precision_at_k(ground_truth, retrieved_docs, k):\n",
    "    \"\"\"\n",
    "    Computes Precision at k for a single query.\n",
    "\n",
    "    :param ground_truth: The name of the ground truth document.\n",
    "    :param retrieved_docs: The list of document names returned by the model in ranked order.\n",
    "    :param k: The cutoff for computing Precision.\n",
    "    :return: Precision at k.\n",
    "    \"\"\"\n",
    "    return 1 if ground_truth in retrieved_docs[:k] else 0\n",
    "\n",
    "def evaluate(doc_file, qa_pairs, ranking_fuction = None, k= 5):\n",
    "    \"\"\"\n",
    "    Evaluate the retrieval system based on the documents and question-answer pairs.\n",
    "\n",
    "    :param doc_file: Path to the document file.\n",
    "    :param qa_file: Path to the question-answer file.\n",
    "    :param k: The cutoff for Precision@k.\n",
    "    \"\"\"\n",
    "    # Load the QA pairs\n",
    "\n",
    "\n",
    "    precision_scores = []\n",
    "\n",
    "\n",
    "    for doc_id, question, _ in qa_pairs:\n",
    "\n",
    "        retrieved_docs = ranking_fuction(question)\n",
    "        precision_scores.append(precision_at_k(doc_id, retrieved_docs, k))\n",
    "\n",
    "        avg_precision_at_k = sum(precision_scores) / len(precision_scores)\n",
    "\n",
    "        if len(precision_scores) %10==0:\n",
    "            print(f\"After {len(precision_scores)} queries, Precision@{k}: {avg_precision_at_k}\")\n",
    "\n",
    "    # Compute average Precision@k\n",
    "    avg_precision_at_k = sum(precision_scores) / len(precision_scores)\n",
    "\n",
    "    print(f\"Precision@{k}: {avg_precision_at_k}\")"
   ]
  },
  {
   "cell_type": "code",
   "execution_count": 9,
   "metadata": {},
   "outputs": [
    {
     "name": "stdout",
     "output_type": "stream",
     "text": [
      "Starting evaluation with batch_size=256, search_batch_size=512\n",
      "Encoding queries...\n"
     ]
    },
    {
     "name": "stderr",
     "output_type": "stream",
     "text": [
      "Encoding queries: 100%|██████████| 5/5 [00:17<00:00,  3.43s/it]\n"
     ]
    },
    {
     "name": "stdout",
     "output_type": "stream",
     "text": [
      "Encoding completed in 17.1 seconds\n",
      "Performing batch similarity search...\n"
     ]
    },
    {
     "name": "stderr",
     "output_type": "stream",
     "text": [
      "Searching: 100%|██████████| 3/3 [00:03<00:00,  1.24s/it]"
     ]
    },
    {
     "name": "stdout",
     "output_type": "stream",
     "text": [
      "Search completed in 3.7 seconds\n",
      "\n",
      "Performance Breakdown:\n",
      "- Encoding time: 17.1s (67.2 queries/s)\n",
      "- Search time: 3.7s (310.0 queries/s)\n",
      "\n",
      "Precision Results:\n",
      "Precision@1: 0.278\n",
      "Precision@2: 0.354\n",
      "Precision@3: 0.400\n",
      "Precision@4: 0.438\n",
      "Precision@5: 0.467\n",
      "\n",
      "Timing:\n",
      "Total time: 20.9 seconds\n",
      "Average speed: 55.2 queries/second\n",
      "Total evaluation time: 0.35 minutes\n"
     ]
    },
    {
     "name": "stderr",
     "output_type": "stream",
     "text": [
      "\n"
     ]
    }
   ],
   "source": [
    "import torch\n",
    "import numpy as np\n",
    "from tqdm import tqdm\n",
    "import time\n",
    "\n",
    "def batch_encode_queries_v2(queries, embedding_model, batch_size=256):\n",
    "    \"\"\"\n",
    "    Optimized batch encoding with larger batches and better GPU utilization\n",
    "    \"\"\"\n",
    "    # Pre-allocate memory for all embeddings\n",
    "    num_queries = len(queries)\n",
    "    embedding_dim = 384  # We know this from the output\n",
    "    all_embeddings = np.zeros((num_queries, embedding_dim), dtype=np.float32)\n",
    "    \n",
    "    # Process in larger batches\n",
    "    for i in tqdm(range(0, num_queries, batch_size), desc=\"Encoding queries\"):\n",
    "        end_idx = min(i + batch_size, num_queries)\n",
    "        batch = queries[i:end_idx]\n",
    "        \n",
    "        # Get embeddings for batch\n",
    "        batch_embeddings = embedding_model.embed_documents(batch)\n",
    "        all_embeddings[i:end_idx] = batch_embeddings\n",
    "    \n",
    "    return all_embeddings\n",
    "\n",
    "def evaluate_gpu_optimized_v2(qa_pairs, ks=[1, 5, 10, 15, 20], batch_size=256, search_batch_size=512):\n",
    "    \"\"\"\n",
    "    Optimized GPU evaluation with precision@k for multiple k values\n",
    "    \"\"\"\n",
    "    questions = [q for _, q, _ in qa_pairs]\n",
    "    ground_truths = [doc_id for doc_id, _, _ in qa_pairs]\n",
    "    max_k = max(ks)  # Use maximum k for retrieval\n",
    "    \n",
    "    print(f\"Starting evaluation with batch_size={batch_size}, search_batch_size={search_batch_size}\")\n",
    "    start_time = time.time()\n",
    "    \n",
    "    # 1. Batch encode queries\n",
    "    print(\"Encoding queries...\")\n",
    "    query_embeddings = batch_encode_queries_v2(questions, embedding_model, batch_size)\n",
    "    encoding_time = time.time() - start_time\n",
    "    print(f\"Encoding completed in {encoding_time:.1f} seconds\")\n",
    "    \n",
    "    # 2. Batch similarity search\n",
    "    print(\"Performing batch similarity search...\")\n",
    "    search_start = time.time()\n",
    "    \n",
    "    all_D = []\n",
    "    all_I = []\n",
    "    num_queries = len(questions)\n",
    "    \n",
    "    for i in tqdm(range(0, num_queries, search_batch_size), desc=\"Searching\"):\n",
    "        end_idx = min(i + search_batch_size, num_queries)\n",
    "        batch_embeddings = query_embeddings[i:end_idx]\n",
    "        \n",
    "        # Retrieve max_k documents\n",
    "        D, I = KNOWLEDGE_VECTOR_DATABASE.index.search(batch_embeddings, max_k)\n",
    "        all_D.extend(D)\n",
    "        all_I.extend(I)\n",
    "    \n",
    "    search_time = time.time() - search_start\n",
    "    print(f\"Search completed in {search_time:.1f} seconds\")\n",
    "    \n",
    "    # 3. Process results\n",
    "    doc_dict = {i: doc.metadata['source'] for i, doc in enumerate(doc_snippets)}\n",
    "    retrieved_docs = [[doc_dict[idx] for idx in query_indices] for query_indices in all_I]\n",
    "    \n",
    "    # Calculate precision for each k\n",
    "    precision_scores = {}\n",
    "    for k in ks:\n",
    "        scores = [\n",
    "            1 if gt in retrieved[:k] else 0 \n",
    "            for gt, retrieved in zip(ground_truths, retrieved_docs)\n",
    "        ]\n",
    "        precision_scores[k] = np.mean(scores)\n",
    "    \n",
    "    # Calculate timing metrics\n",
    "    total_time = time.time() - start_time\n",
    "    qps = num_queries / total_time\n",
    "    \n",
    "    # Print results\n",
    "    print(\"\\nPerformance Breakdown:\")\n",
    "    print(f\"- Encoding time: {encoding_time:.1f}s ({num_queries/encoding_time:.1f} queries/s)\")\n",
    "    print(f\"- Search time: {search_time:.1f}s ({num_queries/search_time:.1f} queries/s)\")\n",
    "    print(f\"\\nPrecision Results:\")\n",
    "    for k in ks:\n",
    "        print(f\"Precision@{k}: {precision_scores[k]:.3f}\")\n",
    "    print(f\"\\nTiming:\")\n",
    "    print(f\"Total time: {total_time:.1f} seconds\")\n",
    "    print(f\"Average speed: {qps:.1f} queries/second\")\n",
    "    \n",
    "    return precision_scores\n",
    "\n",
    "\n",
    "qa_file = 'questions_answers.tsv'\n",
    "qa_pairs = load_questions_answers(qa_file)\n",
    "\n",
    "start_time = time.time()\n",
    "precision_scores = evaluate_gpu_optimized_v2(\n",
    "    qa_pairs, \n",
    "    ks=[1,2,3,4,5],\n",
    "    batch_size=256,\n",
    "    search_batch_size=512\n",
    ")\n",
    "print(f\"Total evaluation time: {(time.time() - start_time)/60:.2f} minutes\")"
   ]
  },
  {
   "cell_type": "markdown",
   "metadata": {},
   "source": [
    "# Reader"
   ]
  },
  {
   "cell_type": "code",
   "execution_count": 10,
   "metadata": {},
   "outputs": [],
   "source": [
    "from dataclasses import dataclass\n",
    "from typing import List, Dict\n",
    "import torch\n",
    "from transformers import AutoTokenizer, AutoModelForSeq2SeqLM\n",
    "from tqdm import tqdm\n",
    "import numpy as np\n",
    "from rouge_score import rouge_scorer\n",
    "from nltk.translate.bleu_score import sentence_bleu, SmoothingFunction\n",
    "from bert_score import score\n",
    "\n",
    "@dataclass\n",
    "class BaselineReaderConfig:\n",
    "    \"\"\"Simple configuration for the baseline T5 reader\"\"\"\n",
    "    model_name: str = \"google/flan-t5-base\"  # Can also use small/large variants\n",
    "    max_input_length: int = 512  # Keep shorter for faster inference\n",
    "    max_output_length: int = 64   # Short answers for baseline\n",
    "    device: str = \"cuda\" if torch.cuda.is_available() else \"cpu\"\n",
    "    batch_size: int = 8  # For batch processing during evaluation\n",
    "\n",
    "class BaselineReader:\n",
    "    \"\"\"Simple T5-based reader for RAG baseline\"\"\"\n",
    "    \n",
    "    def __init__(self, config: BaselineReaderConfig):\n",
    "        self.config = config\n",
    "        self.device = torch.device(config.device)\n",
    "        \n",
    "        # Initialize model and tokenizer\n",
    "        self.tokenizer = AutoTokenizer.from_pretrained(config.model_name)\n",
    "        self.model = AutoModelForSeq2SeqLM.from_pretrained(config.model_name)\n",
    "        self.model.to(self.device)\n",
    "        \n",
    "        # Initialize ROUGE scorer\n",
    "        self.rouge_scorer = rouge_scorer.RougeScorer(['rouge1', 'rouge2', 'rougeL'], use_stemmer=True)\n",
    "        \n",
    "    def generate_answer(self, question: str, context: str) -> str:\n",
    "        \"\"\"Generate an answer for a single question-context pair\"\"\"\n",
    "        # Create input text\n",
    "        input_text = f\"Question: {question}\\nContext: {context}\\nAnswer:\"\n",
    "        \n",
    "        # Tokenize\n",
    "        inputs = self.tokenizer(\n",
    "            input_text,\n",
    "            max_length=self.config.max_input_length,\n",
    "            truncation=True,\n",
    "            return_tensors=\"pt\"\n",
    "        ).to(self.device)\n",
    "        \n",
    "        # Generate\n",
    "        with torch.no_grad():\n",
    "            outputs = self.model.generate(\n",
    "                inputs.input_ids,\n",
    "                max_length=self.config.max_output_length,\n",
    "                num_return_sequences=1,\n",
    "            )\n",
    "        \n",
    "        # Decode\n",
    "        answer = self.tokenizer.decode(outputs[0], skip_special_tokens=True)\n",
    "        return answer\n",
    "    \n",
    "    def evaluate_batch(self, questions: List[str], contexts: List[str], \n",
    "                      reference_answers: List[str]) -> Dict:\n",
    "        \"\"\"Evaluate the reader on a batch of questions\"\"\"\n",
    "        assert len(questions) == len(contexts) == len(reference_answers)\n",
    "        \n",
    "        generated_answers = []\n",
    "        rouge1_scores = []\n",
    "        rouge2_scores = []\n",
    "        rougeL_scores = []\n",
    "        bleu_scores = []\n",
    "        exact_matches = []\n",
    "        f1_scores = []\n",
    "        \n",
    "        # Process in batches\n",
    "        for i in tqdm(range(0, len(questions), self.config.batch_size)):\n",
    "            batch_questions = questions[i:i + self.config.batch_size]\n",
    "            batch_contexts = contexts[i:i + self.config.batch_size]\n",
    "            \n",
    "            # Generate answers for batch\n",
    "            for question, context in zip(batch_questions, batch_contexts):\n",
    "                answer = self.generate_answer(question, context)\n",
    "                generated_answers.append(answer)\n",
    "        \n",
    "        for gen, ref in zip(generated_answers, reference_answers):\n",
    "            scores = self.rouge_scorer.score(ref, gen)\n",
    "            rouge1_scores.append(scores['rouge1'].fmeasure)\n",
    "            rouge2_scores.append(scores['rouge2'].fmeasure)\n",
    "            rougeL_scores.append(scores['rougeL'].fmeasure)\n",
    "\n",
    "            # Exact Match\n",
    "            exact_matches.append(compute_exact_match(gen, ref))\n",
    "\n",
    "            f1_scores.append(compute_f1(gen, ref))\n",
    "\n",
    "            # BLEU Score\n",
    "            smoothie = SmoothingFunction().method1\n",
    "            bleu_scores.append(sentence_bleu([ref.split()], \n",
    "                                       gen.split(), \n",
    "                                       smoothing_function=smoothie))\n",
    "        \n",
    "        # Aggregate metrics\n",
    "        metrics = {\n",
    "            'rouge1': np.mean(rouge1_scores),\n",
    "            'rouge2': np.mean(rouge2_scores),\n",
    "            'rougeL': np.mean(rougeL_scores),\n",
    "            'exact_match': np.mean(exact_matches),\n",
    "            'f1': np.mean(f1_scores),\n",
    "            'bleu' : np.mean(bleu_scores),\n",
    "            'num_samples': len(questions)\n",
    "        }\n",
    "        \n",
    "        # Store some examples\n",
    "        examples = list(zip(questions[:5], contexts[:5], \n",
    "                          generated_answers[:5], reference_answers[:5]))\n",
    "        \n",
    "        return {\n",
    "            'metrics': metrics,\n",
    "            'examples': examples\n",
    "        }\n",
    "\n",
    "def compute_exact_match(prediction, reference):\n",
    "    return int(prediction.strip().lower() == reference.strip().lower())\n",
    "\n",
    "def compute_f1(prediction, reference):\n",
    "    pred_tokens = set(prediction.lower().split())\n",
    "    ref_tokens = set(reference.lower().split())\n",
    "    common = pred_tokens & ref_tokens\n",
    "    if not common:\n",
    "        return 0\n",
    "    precision = len(common) / len(pred_tokens)\n",
    "    recall = len(common) / len(ref_tokens)\n",
    "    return 2 * precision * recall / (precision + recall)\n",
    "\n",
    "def print_evaluation_summary(eval_results: Dict):\n",
    "    \"\"\"Print a readable summary of the evaluation results\"\"\"\n",
    "    print(\"\\n=== Baseline Reader Evaluation Summary ===\")\n",
    "    \n",
    "    metrics = eval_results['metrics']\n",
    "    print(f\"\\nScores (over {metrics['num_samples']} samples):\")\n",
    "    \n",
    "    # Print all metrics in a compact format\n",
    "    for metric_name, value in metrics.items():\n",
    "        if metric_name != 'num_samples':\n",
    "            print(f\"{metric_name}: {value:.3f}\")\n",
    "    \n",
    "    print(\"\\nExample Predictions:\")\n",
    "    for i, (q, c, pred, ref) in enumerate(eval_results['examples'], 1):\n",
    "        print(f\"\\nExample {i}:\")\n",
    "        print(f\"Q: {q}\")\n",
    "        print(f\"Pred: {pred}\")\n",
    "        print(f\"Ref: {ref}\")\n",
    "        print(\"-\" * 50)"
   ]
  },
  {
   "cell_type": "code",
   "execution_count": 11,
   "metadata": {},
   "outputs": [
    {
     "name": "stdout",
     "output_type": "stream",
     "text": [
      "she said it was a collaborative effort\n"
     ]
    }
   ],
   "source": [
    "# Initialize\n",
    "config = BaselineReaderConfig()\n",
    "reader = BaselineReader(config)\n",
    "\n",
    "# Single prediction\n",
    "user_query = \"what did kirsty williams am say about her plan for quality assurance ?\"\n",
    "retrieved_docs = rank_documents_biencoder(user_query, top_k=1)\n",
    "context = documents[retrieved_docs[0]]\n",
    "answer = reader.generate_answer(user_query, context)\n",
    "print(answer)"
   ]
  },
  {
   "cell_type": "code",
   "execution_count": 12,
   "metadata": {},
   "outputs": [],
   "source": [
    "def batch_retrieve(queries, ks=1, batch_size=256, search_batch_size=512):\n",
    "    \"\"\"\n",
    "    Optimized GPU evaluation with precision@k for multiple k values\n",
    "    \"\"\"\n",
    "    max_k = ks  # Use maximum k for retrieval\n",
    "    \n",
    "    print(f\"Starting evaluation with batch_size={batch_size}, search_batch_size={search_batch_size}\")\n",
    "    start_time = time.time()\n",
    "    \n",
    "    # 1. Batch encode queries\n",
    "    print(\"Encoding queries...\")\n",
    "    query_embeddings = batch_encode_queries_v2(queries, embedding_model, batch_size)\n",
    "    encoding_time = time.time() - start_time\n",
    "    print(f\"Encoding completed in {encoding_time:.1f} seconds\")\n",
    "    \n",
    "    # 2. Batch similarity search\n",
    "    print(\"Performing batch similarity search...\")\n",
    "    search_start = time.time()\n",
    "    \n",
    "    all_D = []\n",
    "    all_I = []\n",
    "    num_queries = len(queries)\n",
    "    \n",
    "    for i in tqdm(range(0, num_queries, search_batch_size), desc=\"Searching\"):\n",
    "        end_idx = min(i + search_batch_size, num_queries)\n",
    "        batch_embeddings = query_embeddings[i:end_idx]\n",
    "        \n",
    "        # Retrieve max_k documents\n",
    "        D, I = KNOWLEDGE_VECTOR_DATABASE.index.search(batch_embeddings, max_k)\n",
    "        all_D.extend(D)\n",
    "        all_I.extend(I)\n",
    "    \n",
    "    search_time = time.time() - search_start\n",
    "    print(f\"Search completed in {search_time:.1f} seconds\")\n",
    "    \n",
    "    # 3. Process results\n",
    "    doc_dict = {i: doc.metadata['source'] for i, doc in enumerate(doc_snippets)}\n",
    "    retrieved_docs = [[doc_dict[idx] for idx in query_indices] for query_indices in all_I]\n",
    "    return retrieved_docs"
   ]
  },
  {
   "cell_type": "code",
   "execution_count": 13,
   "metadata": {},
   "outputs": [
    {
     "name": "stdout",
     "output_type": "stream",
     "text": [
      "Starting evaluation with batch_size=256, search_batch_size=512\n",
      "Encoding queries...\n"
     ]
    },
    {
     "name": "stderr",
     "output_type": "stream",
     "text": [
      "Encoding queries: 100%|██████████| 5/5 [00:16<00:00,  3.23s/it]\n"
     ]
    },
    {
     "name": "stdout",
     "output_type": "stream",
     "text": [
      "Encoding completed in 16.2 seconds\n",
      "Performing batch similarity search...\n"
     ]
    },
    {
     "name": "stderr",
     "output_type": "stream",
     "text": [
      "Searching: 100%|██████████| 3/3 [00:03<00:00,  1.25s/it]"
     ]
    },
    {
     "name": "stdout",
     "output_type": "stream",
     "text": [
      "Search completed in 3.8 seconds\n"
     ]
    },
    {
     "name": "stderr",
     "output_type": "stream",
     "text": [
      "\n"
     ]
    }
   ],
   "source": [
    "batch_split = 50\n",
    "\n",
    "questions = [q for id, q, a in qa_pairs]\n",
    "reference_answers = [a for id, q, a in qa_pairs]\n",
    "\n",
    "retrieved_docs = batch_retrieve(questions)\n",
    "contexts = [documents[d_id[0]] for d_id in retrieved_docs]"
   ]
  },
  {
   "cell_type": "code",
   "execution_count": 14,
   "metadata": {},
   "outputs": [
    {
     "name": "stderr",
     "output_type": "stream",
     "text": [
      "100%|██████████| 144/144 [02:37<00:00,  1.09s/it]\n"
     ]
    },
    {
     "name": "stdout",
     "output_type": "stream",
     "text": [
      "\n",
      "=== Baseline Reader Evaluation Summary ===\n",
      "\n",
      "Scores (over 1152 samples):\n",
      "rouge1: 0.057\n",
      "rouge2: 0.008\n",
      "rougeL: 0.048\n",
      "exact_match: 0.000\n",
      "f1: 0.070\n",
      "bleu: 0.001\n",
      "\n",
      "Example Predictions:\n",
      "\n",
      "Example 1:\n",
      "Q: why did n't the team believe that the remote control could fully depend on speech recognition and have no buttons ?\n",
      "Pred: they did n't think it was worth pursuing\n",
      "Ref: age group data for remote control use was not available ; many people may not want to learn to use the new remote control ; some buttons are still needed , such as channel control , volume settings and on/off .\n",
      "--------------------------------------------------\n",
      "\n",
      "Example 2:\n",
      "Q: what was agreed upon on sample transcripts ?\n",
      "Pred: automatic speech recognition\n",
      "Ref: to save time , speaker mn005 will only mark the sample of transcribed data for regions of overlapping speech , as opposed to marking all acoustic events . the digits extraction task will be delegated to whomever is working on acoustics for the meeting recorder project .\n",
      "--------------------------------------------------\n",
      "\n",
      "Example 3:\n",
      "Q: what did user interface propose in the discussion about buttons when discussing the functions ?\n",
      "Pred: they want something new technologically speaking , but the most what they find more\n",
      "Ref: user interface proposed that there should be six or seven buttons for the same number of categories . users could use these buttons to choose hundreds of channels . these buttons could be navigation buttons .\n",
      "--------------------------------------------------\n",
      "\n",
      "Example 4:\n",
      "Q: what did morneau say about the debt ?\n",
      "Pred: he said he 's not sure if he 's a liar .\n",
      "Ref: morneau explained that the government was committed to supporting canadians . it came into the pandemic with a strong fiscal position , and while the pandemic will bring challenges , it will face those challenges while supporting small businesses and canadians .\n",
      "--------------------------------------------------\n",
      "\n",
      "Example 5:\n",
      "Q: what were the modules for the smartkom .\n",
      "Pred: coffee\n",
      "Ref: smartkom should feature a well defined core interface , with domain-specific information kept external . a syntactic analysis component that performs chunk parsing will be added to the system .\n",
      "--------------------------------------------------\n"
     ]
    }
   ],
   "source": [
    "# Batch evaluation\n",
    "eval_results = reader.evaluate_batch(questions, contexts, reference_answers)\n",
    "print_evaluation_summary(eval_results)"
   ]
  },
  {
   "cell_type": "code",
   "execution_count": null,
   "metadata": {},
   "outputs": [],
   "source": []
  }
 ],
 "metadata": {
  "accelerator": "GPU",
  "colab": {
   "gpuType": "T4",
   "provenance": []
  },
  "kernelspec": {
   "display_name": "rag_env",
   "language": "python",
   "name": "python3"
  },
  "language_info": {
   "codemirror_mode": {
    "name": "ipython",
    "version": 3
   },
   "file_extension": ".py",
   "mimetype": "text/x-python",
   "name": "python",
   "nbconvert_exporter": "python",
   "pygments_lexer": "ipython3",
   "version": "3.10.15"
  },
  "widgets": {
   "application/vnd.jupyter.widget-state+json": {
    "01c4b26169344756a5004ae29d7ae15e": {
     "model_module": "@jupyter-widgets/controls",
     "model_module_version": "1.5.0",
     "model_name": "DescriptionStyleModel",
     "state": {
      "_model_module": "@jupyter-widgets/controls",
      "_model_module_version": "1.5.0",
      "_model_name": "DescriptionStyleModel",
      "_view_count": null,
      "_view_module": "@jupyter-widgets/base",
      "_view_module_version": "1.2.0",
      "_view_name": "StyleView",
      "description_width": ""
     }
    },
    "01f33dd22cde4935b251fc1ccec28b06": {
     "model_module": "@jupyter-widgets/controls",
     "model_module_version": "1.5.0",
     "model_name": "HBoxModel",
     "state": {
      "_dom_classes": [],
      "_model_module": "@jupyter-widgets/controls",
      "_model_module_version": "1.5.0",
      "_model_name": "HBoxModel",
      "_view_count": null,
      "_view_module": "@jupyter-widgets/controls",
      "_view_module_version": "1.5.0",
      "_view_name": "HBoxView",
      "box_style": "",
      "children": [
       "IPY_MODEL_dbaa70ee635e4e8ebdf55c00449ba804",
       "IPY_MODEL_cdbfbc4cf6f74e7e885c147e3aa2f33c",
       "IPY_MODEL_9aa28e63d210437e87bbad2c5faea550"
      ],
      "layout": "IPY_MODEL_424c827f13d346d7a1aef2e40b3ed31d"
     }
    },
    "0e9edef7b1bc4fddac576d1d6b9080ea": {
     "model_module": "@jupyter-widgets/controls",
     "model_module_version": "1.5.0",
     "model_name": "FloatProgressModel",
     "state": {
      "_dom_classes": [],
      "_model_module": "@jupyter-widgets/controls",
      "_model_module_version": "1.5.0",
      "_model_name": "FloatProgressModel",
      "_view_count": null,
      "_view_module": "@jupyter-widgets/controls",
      "_view_module_version": "1.5.0",
      "_view_name": "ProgressView",
      "bar_style": "success",
      "description": "",
      "description_tooltip": null,
      "layout": "IPY_MODEL_878da6d48d014346bb2460d0276a1647",
      "max": 18070,
      "min": 0,
      "orientation": "horizontal",
      "style": "IPY_MODEL_b01d2f8e35ca4c0c993c70fa59dec499",
      "value": 18070
     }
    },
    "19ba855ec2404856a2cba7ad451b9021": {
     "model_module": "@jupyter-widgets/controls",
     "model_module_version": "1.5.0",
     "model_name": "HTMLModel",
     "state": {
      "_dom_classes": [],
      "_model_module": "@jupyter-widgets/controls",
      "_model_module_version": "1.5.0",
      "_model_name": "HTMLModel",
      "_view_count": null,
      "_view_module": "@jupyter-widgets/controls",
      "_view_module_version": "1.5.0",
      "_view_name": "HTMLView",
      "description": "",
      "description_tooltip": null,
      "layout": "IPY_MODEL_d4ad90e60abd40a481bf4eed0e4bdf54",
      "placeholder": "​",
      "style": "IPY_MODEL_01c4b26169344756a5004ae29d7ae15e",
      "value": " 18070/18070 [00:24&lt;00:00, 1796.24it/s]"
     }
    },
    "21da30f58191447a8a7a0daa08ace10b": {
     "model_module": "@jupyter-widgets/controls",
     "model_module_version": "1.5.0",
     "model_name": "DescriptionStyleModel",
     "state": {
      "_model_module": "@jupyter-widgets/controls",
      "_model_module_version": "1.5.0",
      "_model_name": "DescriptionStyleModel",
      "_view_count": null,
      "_view_module": "@jupyter-widgets/base",
      "_view_module_version": "1.2.0",
      "_view_name": "StyleView",
      "description_width": ""
     }
    },
    "424c827f13d346d7a1aef2e40b3ed31d": {
     "model_module": "@jupyter-widgets/base",
     "model_module_version": "1.2.0",
     "model_name": "LayoutModel",
     "state": {
      "_model_module": "@jupyter-widgets/base",
      "_model_module_version": "1.2.0",
      "_model_name": "LayoutModel",
      "_view_count": null,
      "_view_module": "@jupyter-widgets/base",
      "_view_module_version": "1.2.0",
      "_view_name": "LayoutView",
      "align_content": null,
      "align_items": null,
      "align_self": null,
      "border": null,
      "bottom": null,
      "display": null,
      "flex": null,
      "flex_flow": null,
      "grid_area": null,
      "grid_auto_columns": null,
      "grid_auto_flow": null,
      "grid_auto_rows": null,
      "grid_column": null,
      "grid_gap": null,
      "grid_row": null,
      "grid_template_areas": null,
      "grid_template_columns": null,
      "grid_template_rows": null,
      "height": null,
      "justify_content": null,
      "justify_items": null,
      "left": null,
      "margin": null,
      "max_height": null,
      "max_width": null,
      "min_height": null,
      "min_width": null,
      "object_fit": null,
      "object_position": null,
      "order": null,
      "overflow": null,
      "overflow_x": null,
      "overflow_y": null,
      "padding": null,
      "right": null,
      "top": null,
      "visibility": null,
      "width": null
     }
    },
    "5a1b783c75ab49af9e428085777d5c2b": {
     "model_module": "@jupyter-widgets/controls",
     "model_module_version": "1.5.0",
     "model_name": "DescriptionStyleModel",
     "state": {
      "_model_module": "@jupyter-widgets/controls",
      "_model_module_version": "1.5.0",
      "_model_name": "DescriptionStyleModel",
      "_view_count": null,
      "_view_module": "@jupyter-widgets/base",
      "_view_module_version": "1.2.0",
      "_view_name": "StyleView",
      "description_width": ""
     }
    },
    "66e6956c50b64d9ba8fb03e8fc38471c": {
     "model_module": "@jupyter-widgets/base",
     "model_module_version": "1.2.0",
     "model_name": "LayoutModel",
     "state": {
      "_model_module": "@jupyter-widgets/base",
      "_model_module_version": "1.2.0",
      "_model_name": "LayoutModel",
      "_view_count": null,
      "_view_module": "@jupyter-widgets/base",
      "_view_module_version": "1.2.0",
      "_view_name": "LayoutView",
      "align_content": null,
      "align_items": null,
      "align_self": null,
      "border": null,
      "bottom": null,
      "display": null,
      "flex": null,
      "flex_flow": null,
      "grid_area": null,
      "grid_auto_columns": null,
      "grid_auto_flow": null,
      "grid_auto_rows": null,
      "grid_column": null,
      "grid_gap": null,
      "grid_row": null,
      "grid_template_areas": null,
      "grid_template_columns": null,
      "grid_template_rows": null,
      "height": null,
      "justify_content": null,
      "justify_items": null,
      "left": null,
      "margin": null,
      "max_height": null,
      "max_width": null,
      "min_height": null,
      "min_width": null,
      "object_fit": null,
      "object_position": null,
      "order": null,
      "overflow": null,
      "overflow_x": null,
      "overflow_y": null,
      "padding": null,
      "right": null,
      "top": null,
      "visibility": null,
      "width": null
     }
    },
    "75768aac5c9c420e88796c9637557d7a": {
     "model_module": "@jupyter-widgets/controls",
     "model_module_version": "1.5.0",
     "model_name": "HBoxModel",
     "state": {
      "_dom_classes": [],
      "_model_module": "@jupyter-widgets/controls",
      "_model_module_version": "1.5.0",
      "_model_name": "HBoxModel",
      "_view_count": null,
      "_view_module": "@jupyter-widgets/controls",
      "_view_module_version": "1.5.0",
      "_view_name": "HBoxView",
      "box_style": "",
      "children": [
       "IPY_MODEL_9708a67aa94a4b0babd63ce89a328d11",
       "IPY_MODEL_0e9edef7b1bc4fddac576d1d6b9080ea",
       "IPY_MODEL_19ba855ec2404856a2cba7ad451b9021"
      ],
      "layout": "IPY_MODEL_7a33f51157164324a9bf871af54e2140"
     }
    },
    "7a33f51157164324a9bf871af54e2140": {
     "model_module": "@jupyter-widgets/base",
     "model_module_version": "1.2.0",
     "model_name": "LayoutModel",
     "state": {
      "_model_module": "@jupyter-widgets/base",
      "_model_module_version": "1.2.0",
      "_model_name": "LayoutModel",
      "_view_count": null,
      "_view_module": "@jupyter-widgets/base",
      "_view_module_version": "1.2.0",
      "_view_name": "LayoutView",
      "align_content": null,
      "align_items": null,
      "align_self": null,
      "border": null,
      "bottom": null,
      "display": null,
      "flex": null,
      "flex_flow": null,
      "grid_area": null,
      "grid_auto_columns": null,
      "grid_auto_flow": null,
      "grid_auto_rows": null,
      "grid_column": null,
      "grid_gap": null,
      "grid_row": null,
      "grid_template_areas": null,
      "grid_template_columns": null,
      "grid_template_rows": null,
      "height": null,
      "justify_content": null,
      "justify_items": null,
      "left": null,
      "margin": null,
      "max_height": null,
      "max_width": null,
      "min_height": null,
      "min_width": null,
      "object_fit": null,
      "object_position": null,
      "order": null,
      "overflow": null,
      "overflow_x": null,
      "overflow_y": null,
      "padding": null,
      "right": null,
      "top": null,
      "visibility": null,
      "width": null
     }
    },
    "878da6d48d014346bb2460d0276a1647": {
     "model_module": "@jupyter-widgets/base",
     "model_module_version": "1.2.0",
     "model_name": "LayoutModel",
     "state": {
      "_model_module": "@jupyter-widgets/base",
      "_model_module_version": "1.2.0",
      "_model_name": "LayoutModel",
      "_view_count": null,
      "_view_module": "@jupyter-widgets/base",
      "_view_module_version": "1.2.0",
      "_view_name": "LayoutView",
      "align_content": null,
      "align_items": null,
      "align_self": null,
      "border": null,
      "bottom": null,
      "display": null,
      "flex": null,
      "flex_flow": null,
      "grid_area": null,
      "grid_auto_columns": null,
      "grid_auto_flow": null,
      "grid_auto_rows": null,
      "grid_column": null,
      "grid_gap": null,
      "grid_row": null,
      "grid_template_areas": null,
      "grid_template_columns": null,
      "grid_template_rows": null,
      "height": null,
      "justify_content": null,
      "justify_items": null,
      "left": null,
      "margin": null,
      "max_height": null,
      "max_width": null,
      "min_height": null,
      "min_width": null,
      "object_fit": null,
      "object_position": null,
      "order": null,
      "overflow": null,
      "overflow_x": null,
      "overflow_y": null,
      "padding": null,
      "right": null,
      "top": null,
      "visibility": null,
      "width": null
     }
    },
    "885282abe8984dd589b5e8b271c70351": {
     "model_module": "@jupyter-widgets/base",
     "model_module_version": "1.2.0",
     "model_name": "LayoutModel",
     "state": {
      "_model_module": "@jupyter-widgets/base",
      "_model_module_version": "1.2.0",
      "_model_name": "LayoutModel",
      "_view_count": null,
      "_view_module": "@jupyter-widgets/base",
      "_view_module_version": "1.2.0",
      "_view_name": "LayoutView",
      "align_content": null,
      "align_items": null,
      "align_self": null,
      "border": null,
      "bottom": null,
      "display": null,
      "flex": null,
      "flex_flow": null,
      "grid_area": null,
      "grid_auto_columns": null,
      "grid_auto_flow": null,
      "grid_auto_rows": null,
      "grid_column": null,
      "grid_gap": null,
      "grid_row": null,
      "grid_template_areas": null,
      "grid_template_columns": null,
      "grid_template_rows": null,
      "height": null,
      "justify_content": null,
      "justify_items": null,
      "left": null,
      "margin": null,
      "max_height": null,
      "max_width": null,
      "min_height": null,
      "min_width": null,
      "object_fit": null,
      "object_position": null,
      "order": null,
      "overflow": null,
      "overflow_x": null,
      "overflow_y": null,
      "padding": null,
      "right": null,
      "top": null,
      "visibility": null,
      "width": null
     }
    },
    "9708a67aa94a4b0babd63ce89a328d11": {
     "model_module": "@jupyter-widgets/controls",
     "model_module_version": "1.5.0",
     "model_name": "HTMLModel",
     "state": {
      "_dom_classes": [],
      "_model_module": "@jupyter-widgets/controls",
      "_model_module_version": "1.5.0",
      "_model_name": "HTMLModel",
      "_view_count": null,
      "_view_module": "@jupyter-widgets/controls",
      "_view_module_version": "1.5.0",
      "_view_name": "HTMLView",
      "description": "",
      "description_tooltip": null,
      "layout": "IPY_MODEL_faf92c79609f41e78b82b2b6f6e9e354",
      "placeholder": "​",
      "style": "IPY_MODEL_21da30f58191447a8a7a0daa08ace10b",
      "value": "100%"
     }
    },
    "9aa28e63d210437e87bbad2c5faea550": {
     "model_module": "@jupyter-widgets/controls",
     "model_module_version": "1.5.0",
     "model_name": "HTMLModel",
     "state": {
      "_dom_classes": [],
      "_model_module": "@jupyter-widgets/controls",
      "_model_module_version": "1.5.0",
      "_model_name": "HTMLModel",
      "_view_count": null,
      "_view_module": "@jupyter-widgets/controls",
      "_view_module_version": "1.5.0",
      "_view_name": "HTMLView",
      "description": "",
      "description_tooltip": null,
      "layout": "IPY_MODEL_885282abe8984dd589b5e8b271c70351",
      "placeholder": "​",
      "style": "IPY_MODEL_c54bd6023b894bc18350e7f99cb56b3e",
      "value": " 230/230 [00:19&lt;00:00, 16.52it/s]"
     }
    },
    "aa567554981c449e9a19d2cc80a15a18": {
     "model_module": "@jupyter-widgets/base",
     "model_module_version": "1.2.0",
     "model_name": "LayoutModel",
     "state": {
      "_model_module": "@jupyter-widgets/base",
      "_model_module_version": "1.2.0",
      "_model_name": "LayoutModel",
      "_view_count": null,
      "_view_module": "@jupyter-widgets/base",
      "_view_module_version": "1.2.0",
      "_view_name": "LayoutView",
      "align_content": null,
      "align_items": null,
      "align_self": null,
      "border": null,
      "bottom": null,
      "display": null,
      "flex": null,
      "flex_flow": null,
      "grid_area": null,
      "grid_auto_columns": null,
      "grid_auto_flow": null,
      "grid_auto_rows": null,
      "grid_column": null,
      "grid_gap": null,
      "grid_row": null,
      "grid_template_areas": null,
      "grid_template_columns": null,
      "grid_template_rows": null,
      "height": null,
      "justify_content": null,
      "justify_items": null,
      "left": null,
      "margin": null,
      "max_height": null,
      "max_width": null,
      "min_height": null,
      "min_width": null,
      "object_fit": null,
      "object_position": null,
      "order": null,
      "overflow": null,
      "overflow_x": null,
      "overflow_y": null,
      "padding": null,
      "right": null,
      "top": null,
      "visibility": null,
      "width": null
     }
    },
    "b01d2f8e35ca4c0c993c70fa59dec499": {
     "model_module": "@jupyter-widgets/controls",
     "model_module_version": "1.5.0",
     "model_name": "ProgressStyleModel",
     "state": {
      "_model_module": "@jupyter-widgets/controls",
      "_model_module_version": "1.5.0",
      "_model_name": "ProgressStyleModel",
      "_view_count": null,
      "_view_module": "@jupyter-widgets/base",
      "_view_module_version": "1.2.0",
      "_view_name": "StyleView",
      "bar_color": null,
      "description_width": ""
     }
    },
    "b81068c5e79f4697b1ec9033c2472a2f": {
     "model_module": "@jupyter-widgets/controls",
     "model_module_version": "1.5.0",
     "model_name": "ProgressStyleModel",
     "state": {
      "_model_module": "@jupyter-widgets/controls",
      "_model_module_version": "1.5.0",
      "_model_name": "ProgressStyleModel",
      "_view_count": null,
      "_view_module": "@jupyter-widgets/base",
      "_view_module_version": "1.2.0",
      "_view_name": "StyleView",
      "bar_color": null,
      "description_width": ""
     }
    },
    "c54bd6023b894bc18350e7f99cb56b3e": {
     "model_module": "@jupyter-widgets/controls",
     "model_module_version": "1.5.0",
     "model_name": "DescriptionStyleModel",
     "state": {
      "_model_module": "@jupyter-widgets/controls",
      "_model_module_version": "1.5.0",
      "_model_name": "DescriptionStyleModel",
      "_view_count": null,
      "_view_module": "@jupyter-widgets/base",
      "_view_module_version": "1.2.0",
      "_view_name": "StyleView",
      "description_width": ""
     }
    },
    "cdbfbc4cf6f74e7e885c147e3aa2f33c": {
     "model_module": "@jupyter-widgets/controls",
     "model_module_version": "1.5.0",
     "model_name": "FloatProgressModel",
     "state": {
      "_dom_classes": [],
      "_model_module": "@jupyter-widgets/controls",
      "_model_module_version": "1.5.0",
      "_model_name": "FloatProgressModel",
      "_view_count": null,
      "_view_module": "@jupyter-widgets/controls",
      "_view_module_version": "1.5.0",
      "_view_name": "ProgressView",
      "bar_style": "success",
      "description": "",
      "description_tooltip": null,
      "layout": "IPY_MODEL_66e6956c50b64d9ba8fb03e8fc38471c",
      "max": 230,
      "min": 0,
      "orientation": "horizontal",
      "style": "IPY_MODEL_b81068c5e79f4697b1ec9033c2472a2f",
      "value": 230
     }
    },
    "d4ad90e60abd40a481bf4eed0e4bdf54": {
     "model_module": "@jupyter-widgets/base",
     "model_module_version": "1.2.0",
     "model_name": "LayoutModel",
     "state": {
      "_model_module": "@jupyter-widgets/base",
      "_model_module_version": "1.2.0",
      "_model_name": "LayoutModel",
      "_view_count": null,
      "_view_module": "@jupyter-widgets/base",
      "_view_module_version": "1.2.0",
      "_view_name": "LayoutView",
      "align_content": null,
      "align_items": null,
      "align_self": null,
      "border": null,
      "bottom": null,
      "display": null,
      "flex": null,
      "flex_flow": null,
      "grid_area": null,
      "grid_auto_columns": null,
      "grid_auto_flow": null,
      "grid_auto_rows": null,
      "grid_column": null,
      "grid_gap": null,
      "grid_row": null,
      "grid_template_areas": null,
      "grid_template_columns": null,
      "grid_template_rows": null,
      "height": null,
      "justify_content": null,
      "justify_items": null,
      "left": null,
      "margin": null,
      "max_height": null,
      "max_width": null,
      "min_height": null,
      "min_width": null,
      "object_fit": null,
      "object_position": null,
      "order": null,
      "overflow": null,
      "overflow_x": null,
      "overflow_y": null,
      "padding": null,
      "right": null,
      "top": null,
      "visibility": null,
      "width": null
     }
    },
    "dbaa70ee635e4e8ebdf55c00449ba804": {
     "model_module": "@jupyter-widgets/controls",
     "model_module_version": "1.5.0",
     "model_name": "HTMLModel",
     "state": {
      "_dom_classes": [],
      "_model_module": "@jupyter-widgets/controls",
      "_model_module_version": "1.5.0",
      "_model_name": "HTMLModel",
      "_view_count": null,
      "_view_module": "@jupyter-widgets/controls",
      "_view_module_version": "1.5.0",
      "_view_name": "HTMLView",
      "description": "",
      "description_tooltip": null,
      "layout": "IPY_MODEL_aa567554981c449e9a19d2cc80a15a18",
      "placeholder": "​",
      "style": "IPY_MODEL_5a1b783c75ab49af9e428085777d5c2b",
      "value": "100%"
     }
    },
    "faf92c79609f41e78b82b2b6f6e9e354": {
     "model_module": "@jupyter-widgets/base",
     "model_module_version": "1.2.0",
     "model_name": "LayoutModel",
     "state": {
      "_model_module": "@jupyter-widgets/base",
      "_model_module_version": "1.2.0",
      "_model_name": "LayoutModel",
      "_view_count": null,
      "_view_module": "@jupyter-widgets/base",
      "_view_module_version": "1.2.0",
      "_view_name": "LayoutView",
      "align_content": null,
      "align_items": null,
      "align_self": null,
      "border": null,
      "bottom": null,
      "display": null,
      "flex": null,
      "flex_flow": null,
      "grid_area": null,
      "grid_auto_columns": null,
      "grid_auto_flow": null,
      "grid_auto_rows": null,
      "grid_column": null,
      "grid_gap": null,
      "grid_row": null,
      "grid_template_areas": null,
      "grid_template_columns": null,
      "grid_template_rows": null,
      "height": null,
      "justify_content": null,
      "justify_items": null,
      "left": null,
      "margin": null,
      "max_height": null,
      "max_width": null,
      "min_height": null,
      "min_width": null,
      "object_fit": null,
      "object_position": null,
      "order": null,
      "overflow": null,
      "overflow_x": null,
      "overflow_y": null,
      "padding": null,
      "right": null,
      "top": null,
      "visibility": null,
      "width": null
     }
    }
   }
  }
 },
 "nbformat": 4,
 "nbformat_minor": 0
}
